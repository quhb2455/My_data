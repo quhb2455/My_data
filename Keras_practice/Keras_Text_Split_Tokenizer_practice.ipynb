{
 "cells": [
  {
   "cell_type": "code",
   "execution_count": 9,
   "metadata": {},
   "outputs": [
    {
     "name": "stdout",
     "output_type": "stream",
     "text": [
      "<keras_preprocessing.text.Tokenizer object at 0x00000257F2CAECC0>\n",
      "[[1, 2, 3, 4, 1, 5], [1, 6, 7, 8, 9]]\n",
      "[[0. 1. 1. ... 0. 0. 0.]\n",
      " [0. 1. 0. ... 0. 0. 0.]]\n",
      "\n",
      "9개의 고유한 토큰을 찾았습니다. \n"
     ]
    }
   ],
   "source": [
    "from keras.preprocessing.text import Tokenizer\n",
    "\"케라스를 이용한 단어 수준의 원핫인코딩\"\n",
    "samples = ['The cat sat on the met.', 'The dog ate my homework.']\n",
    "\n",
    "\"가장 빈도높은 1000개의 단어만 사용해서 Tokenizer의 객체를 만듬.\"\n",
    "tokenizer = Tokenizer(num_words=1000)\n",
    "\"각 단어의 인덱스 구축\"\n",
    "tokenizer.fit_on_texts(samples)\n",
    "\n",
    "\"문자열을 정수 인덱스의 리스트로 변환.\"\n",
    "sequence = tokenizer.texts_to_sequences(samples)\n",
    "print(sequence)\n",
    "\n",
    "\"mode = binary 이므로 원핫 이진벡터 표현을 얻을 수 있음\"\n",
    "\"각 문장에 있는 단어들이 인덱스에 맞춰 삽입됨.\"\n",
    "one_hot_results = tokenizer.texts_to_matrix(samples, mode = 'binary')\n",
    "print(one_hot_results)\n",
    "\n",
    "\n",
    "word_index = tokenizer.word_index\n",
    "print('\\n%s개의 고유한 토큰을 찾았습니다. '%len(word_index))\n",
    "\n"
   ]
  },
  {
   "cell_type": "code",
   "execution_count": null,
   "metadata": {},
   "outputs": [],
   "source": []
  }
 ],
 "metadata": {
  "kernelspec": {
   "display_name": "Python 3",
   "language": "python",
   "name": "python3"
  },
  "language_info": {
   "codemirror_mode": {
    "name": "ipython",
    "version": 3
   },
   "file_extension": ".py",
   "mimetype": "text/x-python",
   "name": "python",
   "nbconvert_exporter": "python",
   "pygments_lexer": "ipython3",
   "version": "3.7.0"
  }
 },
 "nbformat": 4,
 "nbformat_minor": 4
}
