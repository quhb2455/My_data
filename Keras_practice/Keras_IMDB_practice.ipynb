{
 "cells": [
  {
   "cell_type": "code",
   "execution_count": 51,
   "metadata": {
    "scrolled": false
   },
   "outputs": [],
   "source": [
    "from keras.datasets import imdb\n",
    "\n",
    "(train_data, train_labels), (test_data, test_labels) = imdb.load_data(num_words = 10000)"
   ]
  },
  {
   "cell_type": "code",
   "execution_count": 52,
   "metadata": {},
   "outputs": [
    {
     "data": {
      "text/plain": [
       "9999"
      ]
     },
     "execution_count": 52,
     "metadata": {},
     "output_type": "execute_result"
    }
   ],
   "source": [
    "max([max(sequence) for sequence in train_data])"
   ]
  },
  {
   "cell_type": "code",
   "execution_count": null,
   "metadata": {},
   "outputs": [],
   "source": []
  },
  {
   "cell_type": "code",
   "execution_count": 53,
   "metadata": {},
   "outputs": [],
   "source": [
    "import numpy as np\n",
    "\n",
    "\"원핫 인코딩. 정수 시퀀스를 이진 행렬로 인코딩\"\n",
    "def vectorize_squence(sequence, dimension = 10000):\n",
    "    results = np.zeros((len(sequence), dimension))\n",
    "    for i, sequence in enumerate(sequence) :\n",
    "        results[i, sequence] = 1.\n",
    "        \n",
    "    return results\n",
    "\n",
    "x_train = vectorize_squence(train_data)\n",
    "x_test = vectorize_squence(test_data)\n"
   ]
  },
  {
   "cell_type": "code",
   "execution_count": 54,
   "metadata": {},
   "outputs": [],
   "source": [
    "y_train = np.asarray(train_labels).astype('float32')\n",
    "y_test = np.asarray(train_labels).astype('float32')\n",
    "\n"
   ]
  },
  {
   "cell_type": "code",
   "execution_count": 55,
   "metadata": {},
   "outputs": [],
   "source": [
    "from keras import models\n",
    "from keras import layers\n",
    "\n",
    "model = models.Sequential()\n",
    "\n",
    "model.add(layers.Dense(16, activation='relu', input_shape=(10000,)))\n",
    "model.add(layers.Dense(16, activation='relu'))\n",
    "model.add(layers.Dense(1, activation='sigmoid'))"
   ]
  },
  {
   "cell_type": "code",
   "execution_count": 56,
   "metadata": {},
   "outputs": [],
   "source": [
    "model.compile(optimizer = 'rmsprop',\n",
    "             loss = 'binary_crossentropy',\n",
    "             metrics = ['accuracy'])\n",
    "\n"
   ]
  },
  {
   "cell_type": "code",
   "execution_count": 57,
   "metadata": {},
   "outputs": [],
   "source": [
    "x_val = x_train[:10000]\n",
    "partical_x_train = x_train[10000:]\n",
    "y_val = y_train[:10000]\n",
    "partical_y_train = y_train[10000:]"
   ]
  },
  {
   "cell_type": "code",
   "execution_count": 58,
   "metadata": {},
   "outputs": [
    {
     "name": "stdout",
     "output_type": "stream",
     "text": [
      "Train on 15000 samples, validate on 10000 samples\n",
      "Epoch 1/20\n",
      "15000/15000 [==============================] - 2s 118us/step - loss: 0.4856 - accuracy: 0.7987 - val_loss: 0.3616 - val_accuracy: 0.8725\n",
      "Epoch 2/20\n",
      "15000/15000 [==============================] - 2s 117us/step - loss: 0.2846 - accuracy: 0.9057 - val_loss: 0.3025 - val_accuracy: 0.8819\n",
      "Epoch 3/20\n",
      "15000/15000 [==============================] - 2s 101us/step - loss: 0.2132 - accuracy: 0.9295 - val_loss: 0.2831 - val_accuracy: 0.8866\n",
      "Epoch 4/20\n",
      "15000/15000 [==============================] - 2s 102us/step - loss: 0.1667 - accuracy: 0.9446 - val_loss: 0.2788 - val_accuracy: 0.8879\n",
      "Epoch 5/20\n",
      "15000/15000 [==============================] - 2s 101us/step - loss: 0.1341 - accuracy: 0.9585 - val_loss: 0.3038 - val_accuracy: 0.8830\n",
      "Epoch 6/20\n",
      "15000/15000 [==============================] - 2s 103us/step - loss: 0.1116 - accuracy: 0.9647 - val_loss: 0.3150 - val_accuracy: 0.8829\n",
      "Epoch 7/20\n",
      "15000/15000 [==============================] - 2s 104us/step - loss: 0.0939 - accuracy: 0.9708 - val_loss: 0.3210 - val_accuracy: 0.8831\n",
      "Epoch 8/20\n",
      "15000/15000 [==============================] - 2s 102us/step - loss: 0.0766 - accuracy: 0.9783 - val_loss: 0.3590 - val_accuracy: 0.8747\n",
      "Epoch 9/20\n",
      "15000/15000 [==============================] - 2s 105us/step - loss: 0.0644 - accuracy: 0.9817 - val_loss: 0.3743 - val_accuracy: 0.8764\n",
      "Epoch 10/20\n",
      "15000/15000 [==============================] - 2s 104us/step - loss: 0.0503 - accuracy: 0.9875 - val_loss: 0.3973 - val_accuracy: 0.8760\n",
      "Epoch 11/20\n",
      "15000/15000 [==============================] - 2s 105us/step - loss: 0.0438 - accuracy: 0.9891 - val_loss: 0.4291 - val_accuracy: 0.8748\n",
      "Epoch 12/20\n",
      "15000/15000 [==============================] - 2s 104us/step - loss: 0.0343 - accuracy: 0.9933 - val_loss: 0.4552 - val_accuracy: 0.8744\n",
      "Epoch 13/20\n",
      "15000/15000 [==============================] - 2s 103us/step - loss: 0.0284 - accuracy: 0.9935 - val_loss: 0.5417 - val_accuracy: 0.8666\n",
      "Epoch 14/20\n",
      "15000/15000 [==============================] - 2s 104us/step - loss: 0.0244 - accuracy: 0.9951 - val_loss: 0.5251 - val_accuracy: 0.8713\n",
      "Epoch 15/20\n",
      "15000/15000 [==============================] - 2s 105us/step - loss: 0.0185 - accuracy: 0.9967 - val_loss: 0.5856 - val_accuracy: 0.8598\n",
      "Epoch 16/20\n",
      "15000/15000 [==============================] - 2s 104us/step - loss: 0.0135 - accuracy: 0.9983 - val_loss: 0.6130 - val_accuracy: 0.8617\n",
      "Epoch 17/20\n",
      "15000/15000 [==============================] - 2s 103us/step - loss: 0.0127 - accuracy: 0.9980 - val_loss: 0.6411 - val_accuracy: 0.8667\n",
      "Epoch 18/20\n",
      "15000/15000 [==============================] - 2s 105us/step - loss: 0.0066 - accuracy: 0.9997 - val_loss: 0.7179 - val_accuracy: 0.8558\n",
      "Epoch 19/20\n",
      "15000/15000 [==============================] - 2s 105us/step - loss: 0.0095 - accuracy: 0.9980 - val_loss: 0.7037 - val_accuracy: 0.8649\n",
      "Epoch 20/20\n",
      "15000/15000 [==============================] - 2s 104us/step - loss: 0.0037 - accuracy: 0.9998 - val_loss: 0.7697 - val_accuracy: 0.8636\n"
     ]
    }
   ],
   "source": [
    "history = model.fit(partical_x_train,\n",
    "                   partical_y_train,\n",
    "                   epochs = 20,\n",
    "                   batch_size = 512,\n",
    "                   validation_data = (x_val, y_val))"
   ]
  },
  {
   "cell_type": "code",
   "execution_count": 59,
   "metadata": {},
   "outputs": [
    {
     "data": {
      "text/plain": [
       "dict_keys(['val_loss', 'val_accuracy', 'loss', 'accuracy'])"
      ]
     },
     "execution_count": 59,
     "metadata": {},
     "output_type": "execute_result"
    }
   ],
   "source": [
    "history_dict = history.history\n",
    "history_dict.keys()"
   ]
  },
  {
   "cell_type": "code",
   "execution_count": 61,
   "metadata": {},
   "outputs": [
    {
     "data": {
      "image/png": "[encoded data removed]",
      "text/plain": [
       "<Figure size 432x288 with 1 Axes>"
      ]
     },
     "metadata": {
      "needs_background": "light"
     },
     "output_type": "display_data"
    }
   ],
   "source": [
    "import matplotlib.pyplot as plt\n",
    "\n",
    "loss = history_dict['loss']\n",
    "val_loss = history_dict['val_loss']\n",
    "\n",
    "epochs = range(1,len(loss) + 1)\n",
    "\n",
    "plt.plot(epochs, loss, 'bo', label = 'Training loss')\n",
    "plt.plot(epochs, val_loss, 'b', label = 'Validation loss')\n",
    "plt.title('training and validation loss')\n",
    "plt.xlabel('epochs')\n",
    "plt.ylabel('Loss')\n",
    "plt.legend()\n",
    "\n",
    "plt.show()"
   ]
  },
  {
   "cell_type": "code",
   "execution_count": 76,
   "metadata": {},
   "outputs": [
    {
     "data": {
      "image/png": "[encoded data removed]",
      "text/plain": [
       "<Figure size 432x288 with 1 Axes>"
      ]
     },
     "metadata": {
      "needs_background": "light"
     },
     "output_type": "display_data"
    }
   ],
   "source": [
    "acc = history_dict['accuracy']\n",
    "val_acc = history_dict['val_accuracy']\n",
    "\n",
    "plt.plot(epochs, acc, 'bo', label = 'Trainging acc')\n",
    "plt.plot(epochs, val_acc, 'b', label = 'Validation acc')\n",
    "plt.title('Training and Validation accuracy')\n",
    "plt.xlabel('epochs')\n",
    "plt.ylabel('Accuracy')\n",
    "plt.legend()\n",
    "\n",
    "plt.show()"
   ]
  },
  {
   "cell_type": "code",
   "execution_count": 79,
   "metadata": {},
   "outputs": [
    {
     "name": "stdout",
     "output_type": "stream",
     "text": [
      "Epoch 1/4\n",
      "25000/25000 [==============================] - 2s 70us/step - loss: 0.4575 - accuracy: 0.8193\n",
      "Epoch 2/4\n",
      "25000/25000 [==============================] - 2s 67us/step - loss: 0.2614 - accuracy: 0.9096\n",
      "Epoch 3/4\n",
      "25000/25000 [==============================] - 2s 66us/step - loss: 0.2003 - accuracy: 0.9290\n",
      "Epoch 4/4\n",
      "25000/25000 [==============================] - 2s 66us/step - loss: 0.1687 - accuracy: 0.9391 0s - loss: 0.1673 - accuracy: 0.\n",
      "25000/25000 [==============================] - 2s 71us/step\n"
     ]
    },
    {
     "data": {
      "text/plain": [
       "[1.9628323266220093, 0.5012000203132629]"
      ]
     },
     "execution_count": 79,
     "metadata": {},
     "output_type": "execute_result"
    }
   ],
   "source": [
    "model = models.Sequential()\n",
    "\n",
    "model.add(layers.Dense(16, activation = 'relu', input_shape = (10000,)))\n",
    "model.add(layers.Dense(16, activation = 'relu'))\n",
    "model.add(layers.Dense(1, activation = 'sigmoid'))\n",
    "\n",
    "model.compile(optimizer = 'rmsprop',\n",
    "             loss = 'binary_crossentropy',\n",
    "             metrics = ['accuracy'])\n",
    "\n",
    "model.fit(x_train, y_train, epochs = 4, batch_size = 512)\n",
    "\n",
    "result = model.evaluate(x_test, y_test)\n",
    "\n",
    "result\n"
   ]
  },
  {
   "cell_type": "code",
   "execution_count": 84,
   "metadata": {},
   "outputs": [
    {
     "data": {
      "text/plain": [
       "array([[0.2587779 ],\n",
       "       [0.9995142 ],\n",
       "       [0.862124  ],\n",
       "       ...,\n",
       "       [0.14135104],\n",
       "       [0.10344648],\n",
       "       [0.61198294]], dtype=float32)"
      ]
     },
     "execution_count": 84,
     "metadata": {},
     "output_type": "execute_result"
    }
   ],
   "source": [
    "model.predict(x_test)"
   ]
  }
 ],
 "metadata": {
  "kernelspec": {
   "display_name": "Python 3",
   "language": "python",
   "name": "python3"
  },
  "language_info": {
   "codemirror_mode": {
    "name": "ipython",
    "version": 3
   },
   "file_extension": ".py",
   "mimetype": "text/x-python",
   "name": "python",
   "nbconvert_exporter": "python",
   "pygments_lexer": "ipython3",
   "version": "3.7.6"
  }
 },
 "nbformat": 4,
 "nbformat_minor": 4
}
