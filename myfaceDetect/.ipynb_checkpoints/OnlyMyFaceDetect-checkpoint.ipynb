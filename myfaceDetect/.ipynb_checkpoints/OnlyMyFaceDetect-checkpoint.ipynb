{
 "cells": [
  {
   "cell_type": "code",
   "execution_count": 24,
   "metadata": {},
   "outputs": [],
   "source": [
    "from keras.models import Sequential\n",
    "from keras import layers\n",
    "import os,sys,shutil\n",
    "from keras.preprocessing.image import ImageDataGenerator, array_to_img, img_to_array\n",
    "\n",
    "\n",
    "\n",
    "model = Sequential()\n",
    "\n",
    "model.add(layers.Conv2D(64,(3,3), activation ='relu', input_shape = (200,200,3)))\n",
    "model.add(layers.MaxPooling2D(2,2))\n",
    "\n",
    "model.add(layers.Conv2D(128,(3,3), activation ='relu'))\n",
    "model.add(layers.MaxPooling2D(2,2))\n",
    "\n",
    "model.add(layers.Conv2D(256,(3,3), activation ='relu'))\n",
    "model.add(layers.MaxPooling2D(2,2))\n",
    "\n",
    "model.add(layers.Conv2D(128,(3,3), activation ='relu'))\n",
    "model.add(layers.MaxPooling2D(2,2))\n",
    "\n",
    "model.add(layers.Conv2D(64,(3,3), activation ='relu'))\n",
    "model.add(layers.MaxPooling2D(2,2))\n",
    "\n",
    "\n",
    "\n",
    "model.add(layers.Flatten())\n",
    "model.add(layers.Dense(64, activation = 'relu'))\n",
    "model.add(layers.Dense(1, activation = 'sigmoid'))\n"
   ]
  },
  {
   "cell_type": "code",
   "execution_count": 25,
   "metadata": {},
   "outputs": [],
   "source": [
    "model.compile(loss = 'binary_crossentropy',\n",
    "             optimizer = 'rmsprop',\n",
    "             metrics = ['accuracy'])\n"
   ]
  },
  {
   "cell_type": "code",
   "execution_count": 49,
   "metadata": {},
   "outputs": [],
   "source": [
    "base_dir = '../face_img'\n",
    "\n",
    "img_path = os.path.join(base_dir,'myface')\n",
    "\n",
    "train_path = os.path.join(base_dir,'train')\n",
    "if(os.path.isdir(train_path) == False) :\n",
    "    os.mkdir(train_path)\n",
    "\n",
    "validation_path = os.path.join(base_dir,'validation')\n",
    "if(os.path.isdir(validation_path) == False) :\n",
    "    os.mkdir(validation_path)\n",
    "    \n",
    "test_path = os.path.join(base_dir,'test')\n",
    "if(os.path.isdir(test_path) == False) :\n",
    "    os.mkdir(test_path)\n",
    "\n",
    "img_lists = os.listdir(img_path)\n",
    "for img_list in img_lists[:101] :\n",
    "    img = os.path.join(img_path,img_list)\n",
    "    shutil.copy(img, train_path)\n",
    "\n",
    "for img_list in img_lists[101:126] :\n",
    "    img = os.path.join(img_path,img_list)\n",
    "    shutil.copy(img, validation_path)\n",
    "\n",
    "for img_list in img_lists[126:] :\n",
    "    img = os.path.join(img_path,img_list)\n",
    "    shutil.copy(img, test_path)\n"
   ]
  },
  {
   "cell_type": "code",
   "execution_count": null,
   "metadata": {},
   "outputs": [],
   "source": [
    "train_datagen = ImageDataGenerator(rescale = 1./255)\n",
    "validation_datagen = ImageDataGenerator(rescale = 1./255)\n",
    "test_datagen = ImageDataGenerator(rescale = 1./255)\n",
    "\n",
    "train_generator = train_datagen.flow_from_directory(\n",
    "    train_path,\n",
    "    target_size = (200,200),\n",
    "    bach_size = 2,\n",
    "    class_mode = 'binary')\n",
    "\n",
    "validation_generator = validation_datagen.flow_from_directory(\n",
    "    validation_path,\n",
    "    target_size = (200,200),\n",
    "    bach_size = 2,\n",
    "    class_mode = 'binary')\n",
    "\n",
    "test_generator = test_datagen.flow_from_directory(\n",
    "    test_path,\n",
    "    target_size = (200,200),\n",
    "    bach_size = 2,\n",
    "    class_mode = 'binary')\n",
    "\n"
   ]
  },
  {
   "cell_type": "code",
   "execution_count": null,
   "metadata": {},
   "outputs": [],
   "source": []
  },
  {
   "cell_type": "code",
   "execution_count": null,
   "metadata": {},
   "outputs": [],
   "source": []
  }
 ],
 "metadata": {
  "kernelspec": {
   "display_name": "Python 3",
   "language": "python",
   "name": "python3"
  },
  "language_info": {
   "codemirror_mode": {
    "name": "ipython",
    "version": 3
   },
   "file_extension": ".py",
   "mimetype": "text/x-python",
   "name": "python",
   "nbconvert_exporter": "python",
   "pygments_lexer": "ipython3",
   "version": "3.7.6"
  }
 },
 "nbformat": 4,
 "nbformat_minor": 4
}
