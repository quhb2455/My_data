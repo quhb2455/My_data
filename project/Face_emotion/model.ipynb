{
 "cells": [
  {
   "cell_type": "code",
   "execution_count": 3,
   "metadata": {},
   "outputs": [
    {
     "name": "stderr",
     "output_type": "stream",
     "text": [
      "Using TensorFlow backend.\n"
     ]
    }
   ],
   "source": [
    "from keras.applications import ResNet50\n",
    "from keras.layers import Input, BatchNormalization, Dense, Activation\n",
    "from keras.models import Model\n",
    "\n",
    "def model() :\n",
    "    \n",
    "    input_shape = Input(shape=(224,224,3))\n",
    "    model = ResNet50(include_top=False, input_tensor=input_shape, pooling='max')\n",
    "\n",
    "    x = model.output\n",
    "    x = Dense(1024,kernel_initializer='uniform')(x)\n",
    "    x = BatchNormalization()(x)\n",
    "    x = Activation('relu')(x)\n",
    "    x = Dense(512, kernel_initializer='uniform')(x)\n",
    "    x = BatchNormalization()(x)\n",
    "    x = Activation('relu')(x)\n",
    "    x = Dense(1, activation='sigmoid')(x)\n",
    "    model = Model(model.input, x)\n",
    "    \n",
    "    return model\n"
   ]
  },
  {
   "cell_type": "code",
   "execution_count": 3,
   "metadata": {},
   "outputs": [],
   "source": [
    "def set_model(categori) :\n",
    "    if categori == 'smile' :\n",
    "        smile_model = model()\n",
    "        smile_model.load_weights(\"resnet_50_2class_smile_others_84%.h5\")\n",
    "        #smile_model.summary()\n",
    "        print('Finish setting the smile_model')\n",
    "        return smile_model\n",
    "    \n",
    "    if categori == 'angry' :\n",
    "        angry_model = model()\n",
    "        angry_model.load_weights(\"resnet_50_2class_angry_others_86%.h5\")\n",
    "        #angry_model.summary()\n",
    "        print('Finish setting the angry_model')\n",
    "        return angry_model\n",
    "    \n",
    "    if categori == 'sad' :\n",
    "        sad_model = model()\n",
    "        sad_model.load_weights(\"resnet_50_2class_sad_others_81%.h5\")\n",
    "        #sad_model.summary()\n",
    "        print('Finish setting the sad_model')\n",
    "        return sad_model\n",
    "    \n",
    "    if categori == 'normal' :\n",
    "        normal_model = model()\n",
    "        normal_model.load_weights(\"resnet_50_2class_normal_others_83%.h5\")\n",
    "        #normal_model.summary()\n",
    "        print('Finish setting the normal_model')\n",
    "        return normal_model\n",
    "    "
   ]
  },
  {
   "cell_type": "code",
   "execution_count": 2,
   "metadata": {},
   "outputs": [],
   "source": [
    "import numpy as np\n",
    "\n",
    "def score_list(img, models) :\n",
    "    # 0 = smile\n",
    "    # 1 = sad\n",
    "    # 2 = angry\n",
    "    # 3 = normal\n",
    "    score = []\n",
    "    smile = models[0].predict(img)\n",
    "    score.append(smile[0])\n",
    "\n",
    "    sad = models[1].predict(img)\n",
    "    score.append(sad[0])\n",
    "\n",
    "    angry = models[2].predict(img)\n",
    "    score.append(angry[0])\n",
    "\n",
    "    normal = models[3].predict(img)\n",
    "    score.append(normal[0])\n",
    "    \n",
    "    return score"
   ]
  },
  {
   "cell_type": "code",
   "execution_count": 1,
   "metadata": {},
   "outputs": [],
   "source": [
    "def heightest_score(score) :\n",
    "    heightest_index = score.index(max(score))\n",
    "    heightest_score = max(score)\n",
    "\n",
    "    if heightest_index == 0:\n",
    "        confidence = format(100 * float(score[0]), '.4f')\n",
    "        display_string = str(confidence) + '% smile'\n",
    "\n",
    "    elif heightest_index == 1:\n",
    "        confidence = format(100 * float(score[1]), '.4f')\n",
    "        display_string = str(confidence) + '% sad'\n",
    "\n",
    "    elif heightest_index == 2:\n",
    "        confidence = format(100 * float(score[2]), '.4f')\n",
    "        display_string = str(confidence) + '% angry'\n",
    "\n",
    "    elif heightest_index == 3:\n",
    "        confidence = format(100 * float(score[3]), '.4f')\n",
    "        display_string = str(confidence) + '% normal'\n",
    "        \n",
    "    return display_string, heightest_index, heightest_score"
   ]
  },
  {
   "cell_type": "code",
   "execution_count": 1,
   "metadata": {},
   "outputs": [],
   "source": [
    "\n",
    "import cv2\n",
    "\n",
    "def extract_face(frame, size=0.5) :\n",
    "    casecade_file = cv2.CascadeClassifier(r\"C:\\Users\\Sub\\Anaconda3\\envs\\sub\\Lib\\site-packages\\cv2\\data\\haarcascade_frontalface_default.xml\")\n",
    "    img = cv2.cvtColor(frame, cv2.COLOR_BGR2GRAY)\n",
    "    \n",
    "    faces = casecade_file.detectMultiScale(img, 1.3, 1)\n",
    "    \n",
    "    if faces is() :\n",
    "        return frame, []\n",
    "    \n",
    "    for (x,y,w,h) in faces :\n",
    "        cv2.rectangle(frame, (x,y), (x+w, y+h), (0, 255, 100), 1)\n",
    "        \n",
    "        roi = frame[y:y+h, x:x+w]\n",
    "        \n",
    "#         roi = cv2.equalizeHist(roi)\n",
    "        roi = cv2.resize(roi, dsize=(224,224), interpolation=cv2.INTER_CUBIC)\n",
    "#         roi = cv2.cvtColor(roi, cv2.COLOR_GRAY2RGB)\n",
    "#         roi = cv2.equalizeHist(roi)\n",
    "        roi = roi.astype('float')/255\n",
    "        roi = roi.reshape((1,224,224,3))\n",
    "        \n",
    "        #img = frame 위에 사각형이 그려진 사진\n",
    "        #roi = 관심영역\n",
    "    return frame, roi"
   ]
  }
 ],
 "metadata": {
  "kernelspec": {
   "display_name": "Python 3",
   "language": "python",
   "name": "python3"
  },
  "language_info": {
   "codemirror_mode": {
    "name": "ipython",
    "version": 3
   },
   "file_extension": ".py",
   "mimetype": "text/x-python",
   "name": "python",
   "nbconvert_exporter": "python",
   "pygments_lexer": "ipython3",
   "version": "3.7.6"
  }
 },
 "nbformat": 4,
 "nbformat_minor": 4
}
