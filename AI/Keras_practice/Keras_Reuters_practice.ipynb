{
 "cells": [
  {
   "cell_type": "code",
   "execution_count": 2,
   "metadata": {},
   "outputs": [
    {
     "name": "stdout",
     "output_type": "stream",
     "text": [
      "Downloading data from https://s3.amazonaws.com/text-datasets/reuters.npz\n",
      "2113536/2110848 [==============================] - 2s 1us/step\n"
     ]
    }
   ],
   "source": [
    "from keras.datasets import reuters\n",
    "\n",
    "(train_data, train_labels),(test_data, test_labels) = reuters.load_data(num_words = 10000)"
   ]
  },
  {
   "cell_type": "code",
   "execution_count": 8,
   "metadata": {},
   "outputs": [],
   "source": [
    "import numpy as np\n",
    "\"원핫 인코딩. 정수 시퀀스를 이진 행렬로 인코딩\"\n",
    "def vectorize_squence(sequence, dimension = 10000):\n",
    "    results = np.zeros((len(sequence), dimension))\n",
    "    for i, sequence in enumerate(sequence) :\n",
    "        results[i, sequence] = 1.\n",
    "        \n",
    "    return results\n"
   ]
  },
  {
   "cell_type": "code",
   "execution_count": 9,
   "metadata": {},
   "outputs": [],
   "source": [
    "x_train = vectorize_squence(train_data)\n",
    "y_train = vectorize_squence(test_data)"
   ]
  },
  {
   "cell_type": "code",
   "execution_count": 15,
   "metadata": {},
   "outputs": [],
   "source": [
    "def to_one_hot(labels, dimension = 46):\n",
    "    results = np.zeros((len(labels), dimension))\n",
    "    for i, label in enumerate(labels) :\n",
    "        results[i, label] = 1.\n",
    "    return results\n",
    "\n",
    "one_hot_train_labels = to_one_hot(train_labels)\n",
    "one_hot_test_labels = to_one_hot(test_labels)"
   ]
  },
  {
   "cell_type": "code",
   "execution_count": 26,
   "metadata": {},
   "outputs": [
    {
     "data": {
      "text/plain": [
       "'위의 to_one_hot()함수와 동일하다. to_categorical()함수는 케라스에 내장되어있다.'"
      ]
     },
     "execution_count": 26,
     "metadata": {},
     "output_type": "execute_result"
    }
   ],
   "source": [
    "from keras.utils.np_utils import to_categorical\n",
    "\n",
    "one_hot_train_labels = to_categorical(train_labels)\n",
    "one_hot_test_labels = to_categorical(test_labels)\n",
    "\"위의 to_one_hot()함수와 동일하다. to_categorical()함수는 케라스에 내장되어있다.\"\n"
   ]
  },
  {
   "cell_type": "code",
   "execution_count": 33,
   "metadata": {},
   "outputs": [],
   "source": [
    "from keras import models\n",
    "from keras import layers\n",
    "\n",
    "model = models.Sequential()\n",
    "\"IMDB와는 다르게 46개의 분류를 진행해야 하므로 16차원 출력은 너무 작다. 따라서 64차원을 출력한다\"\n",
    "model.add(layers.Dense(64, activation = 'relu', input_shape = (10000,)))\n",
    "model.add(layers.Dense(64, activation = 'relu'))\n",
    "\"46개 분류이므로 각 46개의 출력을 가진다.\"\n",
    "\"softmax 함수를 사용하여 output[i]가  클래스 i에 속할 확률을 보여준다. 여기서 46개의 클래스를 모두 더하면 1이된다.\"\n",
    "model.add(layers.Dense(46, activation = 'softmax'))\n",
    "\n"
   ]
  },
  {
   "cell_type": "code",
   "execution_count": 34,
   "metadata": {},
   "outputs": [],
   "source": [
    "model.compile(optimizer = 'rmsprop',\n",
    "             loss = 'categorical_crossentropy',\n",
    "             metrics = ['accuracy'])"
   ]
  },
  {
   "cell_type": "code",
   "execution_count": 35,
   "metadata": {},
   "outputs": [],
   "source": [
    "x_val = x_train[:1000]\n",
    "\"0번부터 999번까지 1000개의 데이터를 검증용으로 사용\"\n",
    "partial_x_train = x_train[1000:]\n",
    "\"1000번부터 끝까지를 훈련용으로 사용\"\n",
    "\n",
    "\n",
    "y_val = one_hot_train_labels[:1000]\n",
    "partial_y_train = one_hot_train_labels[1000:]"
   ]
  },
  {
   "cell_type": "code",
   "execution_count": 36,
   "metadata": {},
   "outputs": [
    {
     "name": "stdout",
     "output_type": "stream",
     "text": [
      "Train on 7982 samples, validate on 1000 samples\n",
      "Epoch 1/20\n",
      "7982/7982 [==============================] - 2s 244us/step - loss: 2.5296 - accuracy: 0.5307 - val_loss: 1.6778 - val_accuracy: 0.6220\n",
      "Epoch 2/20\n",
      "7982/7982 [==============================] - 1s 185us/step - loss: 1.3745 - accuracy: 0.7002 - val_loss: 1.3109 - val_accuracy: 0.7080\n",
      "Epoch 3/20\n",
      "7982/7982 [==============================] - 1s 184us/step - loss: 1.0248 - accuracy: 0.7779 - val_loss: 1.1409 - val_accuracy: 0.7620\n",
      "Epoch 4/20\n",
      "7982/7982 [==============================] - 2s 190us/step - loss: 0.7973 - accuracy: 0.8344 - val_loss: 1.0435 - val_accuracy: 0.7900\n",
      "Epoch 5/20\n",
      "7982/7982 [==============================] - 1s 186us/step - loss: 0.6279 - accuracy: 0.8710 - val_loss: 0.9750 - val_accuracy: 0.7980\n",
      "Epoch 6/20\n",
      "7982/7982 [==============================] - 2s 192us/step - loss: 0.5019 - accuracy: 0.8975 - val_loss: 0.9301 - val_accuracy: 0.8060\n",
      "Epoch 7/20\n",
      "7982/7982 [==============================] - 1s 184us/step - loss: 0.3994 - accuracy: 0.9176 - val_loss: 0.9051 - val_accuracy: 0.8180\n",
      "Epoch 8/20\n",
      "7982/7982 [==============================] - 2s 194us/step - loss: 0.3263 - accuracy: 0.9297 - val_loss: 0.9274 - val_accuracy: 0.8150\n",
      "Epoch 9/20\n",
      "7982/7982 [==============================] - 2s 195us/step - loss: 0.2689 - accuracy: 0.9409 - val_loss: 0.8945 - val_accuracy: 0.8220\n",
      "Epoch 10/20\n",
      "7982/7982 [==============================] - 2s 188us/step - loss: 0.2270 - accuracy: 0.9474 - val_loss: 0.9216 - val_accuracy: 0.8190\n",
      "Epoch 11/20\n",
      "7982/7982 [==============================] - 1s 182us/step - loss: 0.1977 - accuracy: 0.9488 - val_loss: 0.9512 - val_accuracy: 0.8110\n",
      "Epoch 12/20\n",
      "7982/7982 [==============================] - 2s 188us/step - loss: 0.1739 - accuracy: 0.9530 - val_loss: 0.9603 - val_accuracy: 0.8150\n",
      "Epoch 13/20\n",
      "7982/7982 [==============================] - 2s 217us/step - loss: 0.1580 - accuracy: 0.9539 - val_loss: 0.9832 - val_accuracy: 0.8090\n",
      "Epoch 14/20\n",
      "7982/7982 [==============================] - 2s 189us/step - loss: 0.1464 - accuracy: 0.9545 - val_loss: 0.9982 - val_accuracy: 0.8130\n",
      "Epoch 15/20\n",
      "7982/7982 [==============================] - 2s 195us/step - loss: 0.1334 - accuracy: 0.9573 - val_loss: 1.0544 - val_accuracy: 0.8020\n",
      "Epoch 16/20\n",
      "7982/7982 [==============================] - 1s 186us/step - loss: 0.1288 - accuracy: 0.9549 - val_loss: 1.0293 - val_accuracy: 0.8040\n",
      "Epoch 17/20\n",
      "7982/7982 [==============================] - 2s 189us/step - loss: 0.1232 - accuracy: 0.9574 - val_loss: 1.0447 - val_accuracy: 0.8060\n",
      "Epoch 18/20\n",
      "7982/7982 [==============================] - 1s 187us/step - loss: 0.1181 - accuracy: 0.9565 - val_loss: 1.0777 - val_accuracy: 0.8010\n",
      "Epoch 19/20\n",
      "7982/7982 [==============================] - 1s 186us/step - loss: 0.1163 - accuracy: 0.9588 - val_loss: 1.1321 - val_accuracy: 0.8030\n",
      "Epoch 20/20\n",
      "7982/7982 [==============================] - 1s 185us/step - loss: 0.1093 - accuracy: 0.9578 - val_loss: 1.1681 - val_accuracy: 0.7940\n"
     ]
    }
   ],
   "source": [
    "history = model.fit(partial_x_train, partial_y_train, epochs = 20, batch_size = 512, validation_data = (x_val, y_val))"
   ]
  },
  {
   "cell_type": "code",
   "execution_count": 38,
   "metadata": {},
   "outputs": [
    {
     "data": {
      "image/png": "[encoded data removed]",
      "text/plain": [
       "<Figure size 432x288 with 1 Axes>"
      ]
     },
     "metadata": {
      "needs_background": "light"
     },
     "output_type": "display_data"
    },
    {
     "data": {
      "image/png": "[encoded data removed]",
      "text/plain": [
       "<Figure size 432x288 with 1 Axes>"
      ]
     },
     "metadata": {
      "needs_background": "light"
     },
     "output_type": "display_data"
    }
   ],
   "source": [
    "import matplotlib.pyplot as plt\n",
    "\n",
    "history_dict = history.history\n",
    "\n",
    "loss = history_dict['loss']\n",
    "val_loss = history_dict['val_loss']\n",
    "\n",
    "acc = history_dict['accuracy']\n",
    "val_acc = history_dict['val_accuracy']\n",
    "\n",
    "epochs = range(1, len(loss) + 1)\n",
    "\n",
    "plt.plot(epochs, loss, 'bo', label = 'Training loss')\n",
    "plt.plot(epochs, val_loss, 'b', label = 'Validation loss')\n",
    "plt.xlabel('epochs')\n",
    "plt.ylabel('Loss')\n",
    "plt.legend()\n",
    "plt.show()\n",
    "\n",
    "\n",
    "plt.plot(epochs, acc, 'yo', label = 'Training Accuracy')\n",
    "plt.plot(epochs, val_acc ,'y', label = 'Validation Accuracy')\n",
    "plt.xlabel('epochs')\n",
    "plt.ylabel('accuracy')\n",
    "plt.legend()\n",
    "plt.show()"
   ]
  },
  {
   "cell_type": "code",
   "execution_count": 40,
   "metadata": {},
   "outputs": [
    {
     "name": "stdout",
     "output_type": "stream",
     "text": [
      "Train on 7982 samples, validate on 1000 samples\n",
      "Epoch 1/9\n",
      "7982/7982 [==============================] - 2s 222us/step - loss: 2.7420 - accuracy: 0.5053 - val_loss: 1.7722 - val_accuracy: 0.6580\n",
      "Epoch 2/9\n",
      "7982/7982 [==============================] - 2s 194us/step - loss: 1.4220 - accuracy: 0.7085 - val_loss: 1.2974 - val_accuracy: 0.7130\n",
      "Epoch 3/9\n",
      "7982/7982 [==============================] - 2s 190us/step - loss: 1.0227 - accuracy: 0.7888 - val_loss: 1.1093 - val_accuracy: 0.7680\n",
      "Epoch 4/9\n",
      "7982/7982 [==============================] - 2s 193us/step - loss: 0.7934 - accuracy: 0.8409 - val_loss: 1.0056 - val_accuracy: 0.7970\n",
      "Epoch 5/9\n",
      "7982/7982 [==============================] - 1s 176us/step - loss: 0.6264 - accuracy: 0.8718 - val_loss: 0.9683 - val_accuracy: 0.8010\n",
      "Epoch 6/9\n",
      "7982/7982 [==============================] - 1s 181us/step - loss: 0.5011 - accuracy: 0.8970 - val_loss: 0.9185 - val_accuracy: 0.8050\n",
      "Epoch 7/9\n",
      "7982/7982 [==============================] - 2s 190us/step - loss: 0.4062 - accuracy: 0.9147 - val_loss: 0.8956 - val_accuracy: 0.8190\n",
      "Epoch 8/9\n",
      "7982/7982 [==============================] - 2s 192us/step - loss: 0.3324 - accuracy: 0.9288 - val_loss: 0.8911 - val_accuracy: 0.8210\n",
      "Epoch 9/9\n",
      "7982/7982 [==============================] - 2s 192us/step - loss: 0.2716 - accuracy: 0.9395 - val_loss: 0.9056 - val_accuracy: 0.8190\n",
      "2246/2246 [==============================] - 1s 228us/step\n"
     ]
    }
   ],
   "source": [
    "\"9번째 Epoch부터 Overfitting이 시작됨. 따라서 9번의 Epochs만 주고 다시 만들어봄\"\n",
    "model = models.Sequential()\n",
    "\n",
    "model.add(layers.Dense(64, activation = 'relu', input_shape = (10000,)))\n",
    "model.add(layers.Dense(64, activation = 'relu'))\n",
    "model.add(layers.Dense(46, activation = 'softmax'))\n",
    "\n",
    "model.compile(optimizer = 'rmsprop',\n",
    "             loss = 'categorical_crossentropy',\n",
    "             metrics = ['accuracy'])\n",
    "\n",
    "history = model.fit(partial_x_train, partial_y_train, epochs = 9, batch_size = 512, validation_data = (x_val, y_val))\n",
    "\n",
    "\"test_data로 모델 평가\"\n",
    "results = model.evaluate(y_train,one_hot_test_labels)"
   ]
  },
  {
   "cell_type": "code",
   "execution_count": 42,
   "metadata": {},
   "outputs": [
    {
     "data": {
      "text/plain": [
       "[1.0073538794649146, 0.7871772050857544]"
      ]
     },
     "execution_count": 42,
     "metadata": {},
     "output_type": "execute_result"
    }
   ],
   "source": [
    "results"
   ]
  },
  {
   "cell_type": "code",
   "execution_count": 51,
   "metadata": {},
   "outputs": [
    {
     "name": "stdout",
     "output_type": "stream",
     "text": [
      "[7.0043003e-05 3.2629997e-03 9.3653551e-05 9.4477075e-01 3.9951630e-02\n",
      " 6.3519452e-05 2.4750228e-05 2.5531284e-05 6.4736913e-04 1.1985020e-04\n",
      " 1.5265335e-04 2.4610513e-03 3.9852783e-04 9.8013297e-05 2.3590981e-04\n",
      " 2.3579723e-05 3.6589894e-04 4.0359161e-04 9.7662687e-06 1.0348876e-03\n",
      " 2.5207738e-03 6.0891744e-04 1.4318727e-04 2.3834944e-04 1.7034741e-05\n",
      " 6.0491155e-05 2.1392661e-06 5.2610462e-06 3.7165730e-05 3.6194231e-04\n",
      " 1.1614878e-05 1.0590874e-04 5.2173698e-05 2.9437824e-05 9.3306582e-05\n",
      " 4.6133362e-05 2.9522914e-04 1.6164293e-05 7.8386001e-06 7.9925318e-04\n",
      " 2.0986675e-04 5.6419995e-05 5.3443928e-05 5.4082079e-06 4.6578248e-06\n",
      " 3.8552134e-06]\n",
      "1.0000001\n",
      "3\n"
     ]
    }
   ],
   "source": [
    "predictions = model.predict(y_train)\n",
    "\n",
    "\"0번째 문장을 46개의 클래스로 분류 하였을 때 각 클래스의 확률\"\n",
    "print(predictions[0])\n",
    "\"46개의 클래스의 확률을 모두 더하면 1이다.\"\n",
    "print(np.sum(predictions[0]))\n",
    "\"0번째 문장이 속해 있는 클래스는 3번째 클래스이다. 이유는 46개의 클래스들 중 가장 확률이 높게 나왔기 때문\"\n",
    "print(np.argmax(predictions[0]))"
   ]
  }
 ],
 "metadata": {
  "kernelspec": {
   "display_name": "Python 3",
   "language": "python",
   "name": "python3"
  },
  "language_info": {
   "codemirror_mode": {
    "name": "ipython",
    "version": 3
   },
   "file_extension": ".py",
   "mimetype": "text/x-python",
   "name": "python",
   "nbconvert_exporter": "python",
   "pygments_lexer": "ipython3",
   "version": "3.7.6"
  }
 },
 "nbformat": 4,
 "nbformat_minor": 4
}
