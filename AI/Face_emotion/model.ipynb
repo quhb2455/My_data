{
 "cells": [
  {
   "cell_type": "code",
   "execution_count": 8,
   "metadata": {},
   "outputs": [],
   "source": [
    "from keras.applications import ResNet50\n",
    "from keras.layers import Input, BatchNormalization, Dense, Activation\n",
    "from keras.models import Model\n",
    "\n",
    "def model() :\n",
    "    \n",
    "    input_shape = Input(shape=(224,224,3))\n",
    "    model = ResNet50(include_top=False, input_tensor=input_shape, pooling='max')\n",
    "\n",
    "    x = model.output\n",
    "    x = Dense(1024,kernel_initializer='uniform')(x)\n",
    "    x = BatchNormalization()(x)\n",
    "    x = Activation('relu')(x)\n",
    "    x = Dense(512, kernel_initializer='uniform')(x)\n",
    "    x = BatchNormalization()(x)\n",
    "    x = Activation('relu')(x)\n",
    "    x = Dense(1, activation='sigmoid')(x)\n",
    "    model = Model(model.input, x)\n",
    "    \n",
    "    return model\n"
   ]
  },
  {
   "cell_type": "code",
   "execution_count": 9,
   "metadata": {},
   "outputs": [],
   "source": [
    "def set_model(categori) :\n",
    "    if categori == 'smile' :\n",
    "        smile_model = model()\n",
    "        smile_model.load_weights(\"resnet_50_2class_smile_others_84%.h5\")\n",
    "        #smile_model.summary()\n",
    "        print('Finish setting the smile_model')\n",
    "        return smile_model\n",
    "    \n",
    "    if categori == 'angry' :\n",
    "        angry_model = model()\n",
    "        angry_model.load_weights(\"resnet_50_2class_angry_others_86%.h5\")\n",
    "        #angry_model.summary()\n",
    "        print('Finish setting the angry_model')\n",
    "        return angry_model\n",
    "    \n",
    "    if categori == 'sad' :\n",
    "        sad_model = model()\n",
    "        sad_model.load_weights(\"resnet_50_2class_normal_others_83%.h5\")\n",
    "        #sad_model.summary()\n",
    "        print('Finish setting the sad_model')\n",
    "        return sad_model\n",
    "    \n",
    "    if categori == 'normal' :\n",
    "        normal_model = model()\n",
    "        normal_model.load_weights(\"resnet_50_2class_sad_others_81%.h5\")\n",
    "        #normal_model.summary()\n",
    "        print('Finish setting the normal_model')\n",
    "        return normal_model\n",
    "    "
   ]
  },
  {
   "cell_type": "code",
   "execution_count": null,
   "metadata": {},
   "outputs": [],
   "source": []
  },
  {
   "cell_type": "code",
   "execution_count": null,
   "metadata": {},
   "outputs": [],
   "source": []
  }
 ],
 "metadata": {
  "kernelspec": {
   "display_name": "Python 3",
   "language": "python",
   "name": "python3"
  },
  "language_info": {
   "codemirror_mode": {
    "name": "ipython",
    "version": 3
   },
   "file_extension": ".py",
   "mimetype": "text/x-python",
   "name": "python",
   "nbconvert_exporter": "python",
   "pygments_lexer": "ipython3",
   "version": "3.7.6"
  }
 },
 "nbformat": 4,
 "nbformat_minor": 4
}
