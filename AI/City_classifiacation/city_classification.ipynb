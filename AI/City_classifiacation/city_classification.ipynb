{
 "cells": [
  {
   "cell_type": "code",
   "execution_count": 5,
   "metadata": {},
   "outputs": [],
   "source": [
    "import pandas as pd\n",
    "\n",
    "read_cities_info = pd.read_csv('cities_info.csv')\n",
    "\n",
    "read_cities_info = read_cities_info.iloc[ 1:,[2,3,19,20]]\n"
   ]
  },
  {
   "cell_type": "code",
   "execution_count": 27,
   "metadata": {},
   "outputs": [
    {
     "name": "stdout",
     "output_type": "stream",
     "text": [
      "[0.32005697564822827, 0.4122763277136379, 0.4758295366835475, 0.5762859520207992, 0.2618233002971301, 0.28324675592836407, 0.57520127344409, 0.24151618976135084, 0.04910142337204823, 0.0606320206019874, 0.13136645980355346, 0.31228298491830153, 0.011265269889748707, 0.06820851067873726, 0.014094134745271814, 0.23769844780313426, 0.36969946240316276, 0.23770137399159666, 0.026988550688021334, 0.05836492461282881, 0.35803879724326654, 0.002914684607679343, 0.13614622161396153, 0.0017370759038658997, 0.22255883555745426, 0.23957611617824842, 0.1550132640950024, 0.005268551122411187, 0.0, 0.29104412091070714, 0.44395758092894066, 0.011569880568566443, 0.03340582076871713, 0.32178823499005976, 0.47252224924795194, 0.034889869508794, 0.0014305161115628954, 0.45351337420508475, 0.3598278523047779, 0.6061063648229791, 0.46724878700870276, 0.5637474415143429, 0.08220320314254712, 0.1511967723003018, 0.040528873628268576, 0.6455880194517967, 1.0, 0.5399019569167665, 0.6123919228464082, 0.8005651256169617, 0.6639536338817977, 0.47911460657576316, 0.48999825761677707, 0.3517151707894435, 0.902013493660615, 0.33396457916970546, 0.5078382381663369, 0.5317467021293624, 0.4757146117369127, 0.3082935363028531, 0.28196304113505466, 0.45476441238781945, 0.20925936607592613, 0.45263652663898507, 0.2724850652215063, 0.4184945778063557, 0.027135599912468857, 0.3373128847276792, 0.46497680676387393, 0.30251529564149426, 0.28501496000840515, 0.39619841122885635, 0.29204067135365613, 0.015338430774899887, 0.3755658580594496, 0.30436778167183753, 0.3308528729330075, 0.18601022290604638, 0.24947488795370315, 0.2291940728223337, 0.285037653777905, 0.27001812382306883, 0.09634916203414211, 0.20319156538380762, 0.26482333402692226, 0.3691181100666814, 0.40231316244417337, 0.28682131701959707, 0.44084171456888666, 0.42294264504634105, 0.33494001505597554, 0.27978220083242067, 0.3156499668223727, 0.2588883702034702, 0.3214533114834298, 0.2573630789383429, 0.010254109209971298, 0.267062901236385, 0.4911488568568046, 0.32182398160826586, 0.24052183969572716, 0.23603395357258236, 0.2877315658881932, 0.22941043952860526, 0.4331567770041847, 0.35288386326438503, 0.42171926603188736, 0.32961485514173466, 0.26167597574571305, 0.558520440701196, 0.31945726034593996, 0.2330313243824558, 0.20078395918572703, 0.2471499453205675, 0.2714584694432073, 0.20321199609992407, 0.22765054618194627, 0.3484145018336614, 0.6137213491915534, 0.722804124466499, 0.5464656069311465, 0.8330725376959863, 0.3256815111116128, 0.3562407761478015, 0.4957594078601514, 0.6834748493251055, 0.4916274081466392, 0.21178850618712472, 0.3251151428298778, 0.6389631063886656, 0.45481974303575007, 0.4377987645275282, 0.39615571987957005, 0.3695702529113586, 0.1962798903282248, 0.3261224159152303, 0.23370213727853958, 0.35149266406790913, 0.653889660888177, 0.5353128120256901, 0.022141463599064454, 0.3998435589920898, 0.3803274309420334, 0.1155857179309826, 0.204445831943142, 0.2406610605685969, 0.42828131109149403, 0.20673788587439917, 0.2529986596131792, 0.2515709695203073, 0.21448942738337415, 0.27955142534807886, 0.18144875676951933, 0.3594419099272498, 0.4261412986446333, 0.3873171164248552, 0.43083567383921517, 0.5317144530590411, 0.5290385071527277, 0.46904210851902595, 0.3594419099272498]\n",
      "\n",
      "\n",
      "1      0.320057\n",
      "2      0.412276\n",
      "3      0.475830\n",
      "4      0.576286\n",
      "5      0.261823\n",
      "         ...   \n",
      "157    0.430836\n",
      "158    0.531714\n",
      "159    0.529039\n",
      "160    0.469042\n",
      "161    0.359442\n",
      "Name: total(m^2), Length: 161, dtype: float64\n",
      "\n",
      "\n",
      "1      1.000000\n",
      "2      0.350183\n",
      "3      0.251148\n",
      "4      0.299739\n",
      "5      0.152833\n",
      "         ...   \n",
      "157    0.005279\n",
      "158    0.003570\n",
      "159    0.047643\n",
      "160    0.016507\n",
      "161    0.003569\n",
      "Name: population, Length: 161, dtype: float64\n",
      "\n",
      "\n",
      "[1.0, 0.3501827194752853, 0.25114760283371107, 0.2997391571221038, 0.15283253459813068, 0.15588174643384417, 0.11799166498761543, 0.02752448734824194, 0.12414814050684297, 0.0961292363592799, 0.10237674539558944, 0.10146723219783577, 0.08597961568443796, 0.0744870965126868, 0.058359573967249924, 0.06537090147532863, 0.07190897799054094, 0.049048674059834915, 0.04293042028818581, 0.04496881074573609, 0.04335373641728038, 0.03283278940978121, 0.03942758206656153, 0.027968763790524685, 0.03414722708927316, 0.021586656664624407, 0.020953018177215132, 0.02169752028192854, 0.018601147741541667, 0.019535217384648154, 0.015672663199926763, 0.014708180553370762, 0.021606795004746382, 0.010559682488243988, 0.010342167865600006, 0.009110646719161291, 0.004639113239016719, 0.005224255315520013, 0.003625723195021638, 0.028259434016060736, 0.03417722910618957, 0.02129033537425821, 0.008265863900371111, 0.003702063943545246, 0.007183633612081524, 0.0060782853313049775, 0.006007184661078414, 0.003545683567700116, 0.002900742950630551, 0.003242889239437569, 0.002804983088417896, 0.003705865568976435, 0.0016360346416438886, 0.0014027997841087742, 0.00224213703133536, 0.001731691757223268, 0.08565051821805691, 0.020916337629135823, 0.013174892545002254, 0.0024197859602684934, 0.0042327503044125876, 0.0041439772132626585, 0.007241993699781941, 0.0030697611623685525, 0.00984384669421441, 0.00202503339522448, 0.002971740874223839, 0.06653789773607041, 0.010512521783570587, 0.009475294520655618, 0.03388286000185561, 0.01671297286183999, 0.01182326058426462, 0.003406667372878526, 0.016419528477205507, 0.004826009364944636, 0.005992800132419861, 0.004584452030114216, 0.00232176567212378, 0.009693733862999078, 0.007189798410078048, 0.00539091035469268, 0.0666059160072987, 0.02722241224641232, 0.02981974438898067, 0.010332304188805569, 0.007251857376576377, 0.007567906020531449, 0.009229319080594356, 0.001468865869304844, 0.001489106956060094, 0.0013041630161644087, 0.001819334635407168, 0.0018818045884385994, 0.0047515180558199855, 0.004371561005967627, 0.023143268158746424, 0.02702637167012289, 0.026519625274808716, 0.009953785591819066, 0.013902441455225227, 0.0036042491486670833, 0.002061713943303791, 0.0016149715818224355, 0.0053717994809034594, 0.0032098048235228963, 0.00532885138819435, 0.002833032919302075, 0.0025619873007216203, 0.006002561062581022, 0.0050322218579283255, 0.007471529678519141, 0.0022857016038441216, 0.004209324072025801, 0.0033866317793898267, 0.004071849076703341, 0.002129937707798644, 0.00276285696877499, 0.051189091924227645, 0.026052641826572107, 0.013569028630246616, 0.016131426917501336, 0.042568032912623545, 0.010248051949519757, 0.009141676202410456, 0.009194487971914002, 0.006299807072646699, 0.02814476877332541, 0.0013899564549493515, 0.004251655684935258, 0.0016171292611212185, 0.0008093352303101746, 0.0028199840968761015, 0.003347074325578805, 0.0025061958788530885, 0.00334162875401521, 0.01161817830424696, 0.0038652255971865506, 0.0022994696527030224, 0.004089521497626707, 0.0, 0.10653356593801151, 0.03539693438980161, 0.012767296650798819, 0.01057807413560028, 0.05422494669761532, 0.00978065751475005, 0.02559880994739475, 0.03327901803809619, 0.0018073132793139483, 0.0060830116764356455, 0.005532084228813053, 0.0035225655752131554, 0.0044938294995653305, 0.002602674967498671, 0.0030043115569721346, 0.005279224764322341, 0.003570137266419657, 0.04764330560989426, 0.01650686311548958, 0.003569315293353454]\n"
     ]
    }
   ],
   "source": [
    "\n",
    "#데이터 표준화\n",
    "def z_score_normalize(list) :\n",
    "    normalized = []\n",
    "    \n",
    "    for value in list :\n",
    "        normalized_num = (value - np.mean(list)) / np.std(list)\n",
    "        normalized.append(normalized_num)\n",
    "    return normalized\n",
    "\n",
    "def min_max_normalize(list) :\n",
    "    normalized = []\n",
    "    \n",
    "    for value in list :\n",
    "        normalized_num = (value - min(list)) / (max(list) - min(list))\n",
    "        normalized.append(normalized_num)\n",
    "    \n",
    "    return normalized\n",
    "\n",
    "#데이터 표준화를 위한 정의\n",
    "all_size, all_population = [], []\n",
    "for index in range(1, (len(read_cities_info['total(m^2)']))+1) :\n",
    "    all_size.append(read_cities_info['total(m^2)'][index])\n",
    "    all_population.append(read_cities_info['population'][index])\n",
    "\n",
    "    \n",
    "\"\"\"\n",
    "for i in range(1, (len(read_cities_info['total(m^2)']))+1) :\n",
    "    \n",
    "    if read_cities_info['total(m^2)'][i] == all_size[i-1] :\n",
    "        print(read_cities_info['total(m^2)'][i],'  ',all_size[i-1])\n",
    "        print('size same ',i,'\\n')\n",
    "\n",
    "    if read_cities_info['population'][i] == all_population[i-1] :\n",
    "        print(read_cities_info['population'][i],'  ',all_population[i-1])\n",
    "        print('population same ',i,'\\n')\n",
    "\"\"\"\n",
    "    \n",
    "\n",
    "all_size = min_max_normalize(all_size)\n",
    "all_population = min_max_normalize(all_population)\n",
    "read_cities_info['total(m^2)'] = min_max_normalize(read_cities_info['total(m^2)'])\n",
    "read_cities_info['population'] = min_max_normalize(read_cities_info['population'] )\n",
    "print(all_size)\n",
    "print('\\n')\n",
    "print(read_cities_info['total(m^2)'] )\n",
    "print('\\n')\n",
    "print(read_cities_info['population'])\n",
    "print('\\n')\n",
    "print(all_population)"
   ]
  },
  {
   "cell_type": "code",
   "execution_count": 28,
   "metadata": {},
   "outputs": [
    {
     "data": {
      "text/plain": [
       "<matplotlib.collections.PathCollection at 0x18862b4e1c8>"
      ]
     },
     "execution_count": 28,
     "metadata": {},
     "output_type": "execute_result"
    },
    {
     "data": {
      "image/png": "[encoded data removed]",
      "text/plain": [
       "<Figure size 432x288 with 1 Axes>"
      ]
     },
     "metadata": {
      "needs_background": "light"
     },
     "output_type": "display_data"
    }
   ],
   "source": [
    "import matplotlib.pyplot as plt\n",
    "import numpy as np\n",
    "\n",
    "\n",
    "MC_size, C_size, T_size = [], [], []\n",
    "MC_population, C_population, T_population = [], [], []\n",
    "\n",
    "for index in range(1, (len(read_cities_info['classification']))+1) :\n",
    "    if read_cities_info['classification'][index] == 'Metropolitan City' :\n",
    "        MC_size.append(all_size[index - 1])\n",
    "        MC_population.append(all_population[index-1])\n",
    "   \n",
    "    elif read_cities_info['classification'][index] == 'City' :\n",
    "        C_size.append(all_size[index - 1])\n",
    "        C_population.append(all_population[index-1])\n",
    "        \n",
    "    else:\n",
    "        T_size.append(all_size[index - 1])\n",
    "        T_population.append(all_population[index-1])\n",
    "        \n",
    "\n",
    "        \n",
    "\n",
    "#plt.scatter(MC_size, MC_population, c='red') -- 일단 2가지만 해보기\n",
    "plt.scatter(C_size, C_population, c= 'blue')\n",
    "#plt.show()\n",
    "plt.scatter(T_size, T_population, c= 'yellow')\n",
    "#plt.ylim(-0.005, 0.015)\n",
    "#plt.show()\n"
   ]
  },
  {
   "cell_type": "code",
   "execution_count": 30,
   "metadata": {},
   "outputs": [
    {
     "name": "stdout",
     "output_type": "stream",
     "text": [
      "     total(m^2)  population\n",
      "1      0.320057    1.000000\n",
      "2      0.412276    0.350183\n",
      "3      0.475830    0.251148\n",
      "4      0.576286    0.299739\n",
      "5      0.261823    0.152833\n",
      "..          ...         ...\n",
      "157    0.430836    0.005279\n",
      "158    0.531714    0.003570\n",
      "159    0.529039    0.047643\n",
      "160    0.469042    0.016507\n",
      "161    0.359442    0.003569\n",
      "\n",
      "[161 rows x 2 columns]\n",
      "        classification\n",
      "1    Metropolitan City\n",
      "2    Metropolitan City\n",
      "3    Metropolitan City\n",
      "4    Metropolitan City\n",
      "5    Metropolitan City\n",
      "..                 ...\n",
      "157               Town\n",
      "158               Town\n",
      "159               City\n",
      "160               City\n",
      "161               Town\n",
      "\n",
      "[161 rows x 1 columns]\n",
      "128\n",
      "33\n",
      "128\n",
      "33\n"
     ]
    }
   ],
   "source": [
    "from sklearn.model_selection import train_test_split\n",
    "\n",
    "city_data = read_cities_info.iloc[ 0:,[1,2]]\n",
    "city_target = read_cities_info.iloc[ 0:,[3]]\n",
    "\n",
    "#print(read_cities_info_df)\n",
    "print(city_data)\n",
    "print(city_target)\n",
    "\n",
    "training_data, validation_data ,training_labels, validation_labels = train_test_split(city_data, city_target, test_size = 0.2, random_state = 100)\n",
    "\n",
    "print(len(training_data))\n",
    "print(len(validation_data))\n",
    "print(len(training_labels))\n",
    "print(len(validation_labels))\n"
   ]
  },
  {
   "cell_type": "code",
   "execution_count": 31,
   "metadata": {},
   "outputs": [
    {
     "name": "stderr",
     "output_type": "stream",
     "text": [
      "C:\\Users\\Sub\\Anaconda3\\envs\\sub\\lib\\site-packages\\ipykernel_launcher.py:5: DataConversionWarning: A column-vector y was passed when a 1d array was expected. Please change the shape of y to (n_samples, ), for example using ravel().\n",
      "  \"\"\"\n"
     ]
    },
    {
     "data": {
      "text/plain": [
       "KNeighborsClassifier(algorithm='auto', leaf_size=30, metric='minkowski',\n",
       "                     metric_params=None, n_jobs=None, n_neighbors=3, p=2,\n",
       "                     weights='uniform')"
      ]
     },
     "execution_count": 31,
     "metadata": {},
     "output_type": "execute_result"
    }
   ],
   "source": [
    "from sklearn.neighbors import KNeighborsClassifier\n",
    "\n",
    "classifier = KNeighborsClassifier(n_neighbors = 3)\n",
    "\n",
    "classifier.fit(training_data, training_labels)"
   ]
  },
  {
   "cell_type": "code",
   "execution_count": 32,
   "metadata": {},
   "outputs": [
    {
     "name": "stdout",
     "output_type": "stream",
     "text": [
      "0.7575757575757576\n"
     ]
    }
   ],
   "source": [
    "print(classifier.score(validation_data, validation_labels))"
   ]
  },
  {
   "cell_type": "code",
   "execution_count": 33,
   "metadata": {},
   "outputs": [
    {
     "name": "stderr",
     "output_type": "stream",
     "text": [
      "C:\\Users\\Sub\\Anaconda3\\envs\\sub\\lib\\site-packages\\ipykernel_launcher.py:7: DataConversionWarning: A column-vector y was passed when a 1d array was expected. Please change the shape of y to (n_samples, ), for example using ravel().\n",
      "  import sys\n",
      "C:\\Users\\Sub\\Anaconda3\\envs\\sub\\lib\\site-packages\\ipykernel_launcher.py:7: DataConversionWarning: A column-vector y was passed when a 1d array was expected. Please change the shape of y to (n_samples, ), for example using ravel().\n",
      "  import sys\n",
      "C:\\Users\\Sub\\Anaconda3\\envs\\sub\\lib\\site-packages\\ipykernel_launcher.py:7: DataConversionWarning: A column-vector y was passed when a 1d array was expected. Please change the shape of y to (n_samples, ), for example using ravel().\n",
      "  import sys\n",
      "C:\\Users\\Sub\\Anaconda3\\envs\\sub\\lib\\site-packages\\ipykernel_launcher.py:7: DataConversionWarning: A column-vector y was passed when a 1d array was expected. Please change the shape of y to (n_samples, ), for example using ravel().\n",
      "  import sys\n",
      "C:\\Users\\Sub\\Anaconda3\\envs\\sub\\lib\\site-packages\\ipykernel_launcher.py:7: DataConversionWarning: A column-vector y was passed when a 1d array was expected. Please change the shape of y to (n_samples, ), for example using ravel().\n",
      "  import sys\n",
      "C:\\Users\\Sub\\Anaconda3\\envs\\sub\\lib\\site-packages\\ipykernel_launcher.py:7: DataConversionWarning: A column-vector y was passed when a 1d array was expected. Please change the shape of y to (n_samples, ), for example using ravel().\n",
      "  import sys\n",
      "C:\\Users\\Sub\\Anaconda3\\envs\\sub\\lib\\site-packages\\ipykernel_launcher.py:7: DataConversionWarning: A column-vector y was passed when a 1d array was expected. Please change the shape of y to (n_samples, ), for example using ravel().\n",
      "  import sys\n",
      "C:\\Users\\Sub\\Anaconda3\\envs\\sub\\lib\\site-packages\\ipykernel_launcher.py:7: DataConversionWarning: A column-vector y was passed when a 1d array was expected. Please change the shape of y to (n_samples, ), for example using ravel().\n",
      "  import sys\n",
      "C:\\Users\\Sub\\Anaconda3\\envs\\sub\\lib\\site-packages\\ipykernel_launcher.py:7: DataConversionWarning: A column-vector y was passed when a 1d array was expected. Please change the shape of y to (n_samples, ), for example using ravel().\n",
      "  import sys\n",
      "C:\\Users\\Sub\\Anaconda3\\envs\\sub\\lib\\site-packages\\ipykernel_launcher.py:7: DataConversionWarning: A column-vector y was passed when a 1d array was expected. Please change the shape of y to (n_samples, ), for example using ravel().\n",
      "  import sys\n",
      "C:\\Users\\Sub\\Anaconda3\\envs\\sub\\lib\\site-packages\\ipykernel_launcher.py:7: DataConversionWarning: A column-vector y was passed when a 1d array was expected. Please change the shape of y to (n_samples, ), for example using ravel().\n",
      "  import sys\n",
      "C:\\Users\\Sub\\Anaconda3\\envs\\sub\\lib\\site-packages\\ipykernel_launcher.py:7: DataConversionWarning: A column-vector y was passed when a 1d array was expected. Please change the shape of y to (n_samples, ), for example using ravel().\n",
      "  import sys\n",
      "C:\\Users\\Sub\\Anaconda3\\envs\\sub\\lib\\site-packages\\ipykernel_launcher.py:7: DataConversionWarning: A column-vector y was passed when a 1d array was expected. Please change the shape of y to (n_samples, ), for example using ravel().\n",
      "  import sys\n",
      "C:\\Users\\Sub\\Anaconda3\\envs\\sub\\lib\\site-packages\\ipykernel_launcher.py:7: DataConversionWarning: A column-vector y was passed when a 1d array was expected. Please change the shape of y to (n_samples, ), for example using ravel().\n",
      "  import sys\n",
      "C:\\Users\\Sub\\Anaconda3\\envs\\sub\\lib\\site-packages\\ipykernel_launcher.py:7: DataConversionWarning: A column-vector y was passed when a 1d array was expected. Please change the shape of y to (n_samples, ), for example using ravel().\n",
      "  import sys\n",
      "C:\\Users\\Sub\\Anaconda3\\envs\\sub\\lib\\site-packages\\ipykernel_launcher.py:7: DataConversionWarning: A column-vector y was passed when a 1d array was expected. Please change the shape of y to (n_samples, ), for example using ravel().\n",
      "  import sys\n",
      "C:\\Users\\Sub\\Anaconda3\\envs\\sub\\lib\\site-packages\\ipykernel_launcher.py:7: DataConversionWarning: A column-vector y was passed when a 1d array was expected. Please change the shape of y to (n_samples, ), for example using ravel().\n",
      "  import sys\n",
      "C:\\Users\\Sub\\Anaconda3\\envs\\sub\\lib\\site-packages\\ipykernel_launcher.py:7: DataConversionWarning: A column-vector y was passed when a 1d array was expected. Please change the shape of y to (n_samples, ), for example using ravel().\n",
      "  import sys\n",
      "C:\\Users\\Sub\\Anaconda3\\envs\\sub\\lib\\site-packages\\ipykernel_launcher.py:7: DataConversionWarning: A column-vector y was passed when a 1d array was expected. Please change the shape of y to (n_samples, ), for example using ravel().\n",
      "  import sys\n",
      "C:\\Users\\Sub\\Anaconda3\\envs\\sub\\lib\\site-packages\\ipykernel_launcher.py:7: DataConversionWarning: A column-vector y was passed when a 1d array was expected. Please change the shape of y to (n_samples, ), for example using ravel().\n",
      "  import sys\n",
      "C:\\Users\\Sub\\Anaconda3\\envs\\sub\\lib\\site-packages\\ipykernel_launcher.py:7: DataConversionWarning: A column-vector y was passed when a 1d array was expected. Please change the shape of y to (n_samples, ), for example using ravel().\n",
      "  import sys\n",
      "C:\\Users\\Sub\\Anaconda3\\envs\\sub\\lib\\site-packages\\ipykernel_launcher.py:7: DataConversionWarning: A column-vector y was passed when a 1d array was expected. Please change the shape of y to (n_samples, ), for example using ravel().\n",
      "  import sys\n",
      "C:\\Users\\Sub\\Anaconda3\\envs\\sub\\lib\\site-packages\\ipykernel_launcher.py:7: DataConversionWarning: A column-vector y was passed when a 1d array was expected. Please change the shape of y to (n_samples, ), for example using ravel().\n",
      "  import sys\n",
      "C:\\Users\\Sub\\Anaconda3\\envs\\sub\\lib\\site-packages\\ipykernel_launcher.py:7: DataConversionWarning: A column-vector y was passed when a 1d array was expected. Please change the shape of y to (n_samples, ), for example using ravel().\n",
      "  import sys\n",
      "C:\\Users\\Sub\\Anaconda3\\envs\\sub\\lib\\site-packages\\ipykernel_launcher.py:7: DataConversionWarning: A column-vector y was passed when a 1d array was expected. Please change the shape of y to (n_samples, ), for example using ravel().\n",
      "  import sys\n",
      "C:\\Users\\Sub\\Anaconda3\\envs\\sub\\lib\\site-packages\\ipykernel_launcher.py:7: DataConversionWarning: A column-vector y was passed when a 1d array was expected. Please change the shape of y to (n_samples, ), for example using ravel().\n",
      "  import sys\n",
      "C:\\Users\\Sub\\Anaconda3\\envs\\sub\\lib\\site-packages\\ipykernel_launcher.py:7: DataConversionWarning: A column-vector y was passed when a 1d array was expected. Please change the shape of y to (n_samples, ), for example using ravel().\n",
      "  import sys\n",
      "C:\\Users\\Sub\\Anaconda3\\envs\\sub\\lib\\site-packages\\ipykernel_launcher.py:7: DataConversionWarning: A column-vector y was passed when a 1d array was expected. Please change the shape of y to (n_samples, ), for example using ravel().\n",
      "  import sys\n",
      "C:\\Users\\Sub\\Anaconda3\\envs\\sub\\lib\\site-packages\\ipykernel_launcher.py:7: DataConversionWarning: A column-vector y was passed when a 1d array was expected. Please change the shape of y to (n_samples, ), for example using ravel().\n",
      "  import sys\n",
      "C:\\Users\\Sub\\Anaconda3\\envs\\sub\\lib\\site-packages\\ipykernel_launcher.py:7: DataConversionWarning: A column-vector y was passed when a 1d array was expected. Please change the shape of y to (n_samples, ), for example using ravel().\n",
      "  import sys\n",
      "C:\\Users\\Sub\\Anaconda3\\envs\\sub\\lib\\site-packages\\ipykernel_launcher.py:7: DataConversionWarning: A column-vector y was passed when a 1d array was expected. Please change the shape of y to (n_samples, ), for example using ravel().\n",
      "  import sys\n",
      "C:\\Users\\Sub\\Anaconda3\\envs\\sub\\lib\\site-packages\\ipykernel_launcher.py:7: DataConversionWarning: A column-vector y was passed when a 1d array was expected. Please change the shape of y to (n_samples, ), for example using ravel().\n",
      "  import sys\n",
      "C:\\Users\\Sub\\Anaconda3\\envs\\sub\\lib\\site-packages\\ipykernel_launcher.py:7: DataConversionWarning: A column-vector y was passed when a 1d array was expected. Please change the shape of y to (n_samples, ), for example using ravel().\n",
      "  import sys\n",
      "C:\\Users\\Sub\\Anaconda3\\envs\\sub\\lib\\site-packages\\ipykernel_launcher.py:7: DataConversionWarning: A column-vector y was passed when a 1d array was expected. Please change the shape of y to (n_samples, ), for example using ravel().\n",
      "  import sys\n",
      "C:\\Users\\Sub\\Anaconda3\\envs\\sub\\lib\\site-packages\\ipykernel_launcher.py:7: DataConversionWarning: A column-vector y was passed when a 1d array was expected. Please change the shape of y to (n_samples, ), for example using ravel().\n",
      "  import sys\n",
      "C:\\Users\\Sub\\Anaconda3\\envs\\sub\\lib\\site-packages\\ipykernel_launcher.py:7: DataConversionWarning: A column-vector y was passed when a 1d array was expected. Please change the shape of y to (n_samples, ), for example using ravel().\n",
      "  import sys\n",
      "C:\\Users\\Sub\\Anaconda3\\envs\\sub\\lib\\site-packages\\ipykernel_launcher.py:7: DataConversionWarning: A column-vector y was passed when a 1d array was expected. Please change the shape of y to (n_samples, ), for example using ravel().\n",
      "  import sys\n",
      "C:\\Users\\Sub\\Anaconda3\\envs\\sub\\lib\\site-packages\\ipykernel_launcher.py:7: DataConversionWarning: A column-vector y was passed when a 1d array was expected. Please change the shape of y to (n_samples, ), for example using ravel().\n",
      "  import sys\n",
      "C:\\Users\\Sub\\Anaconda3\\envs\\sub\\lib\\site-packages\\ipykernel_launcher.py:7: DataConversionWarning: A column-vector y was passed when a 1d array was expected. Please change the shape of y to (n_samples, ), for example using ravel().\n",
      "  import sys\n",
      "C:\\Users\\Sub\\Anaconda3\\envs\\sub\\lib\\site-packages\\ipykernel_launcher.py:7: DataConversionWarning: A column-vector y was passed when a 1d array was expected. Please change the shape of y to (n_samples, ), for example using ravel().\n",
      "  import sys\n",
      "C:\\Users\\Sub\\Anaconda3\\envs\\sub\\lib\\site-packages\\ipykernel_launcher.py:7: DataConversionWarning: A column-vector y was passed when a 1d array was expected. Please change the shape of y to (n_samples, ), for example using ravel().\n",
      "  import sys\n",
      "C:\\Users\\Sub\\Anaconda3\\envs\\sub\\lib\\site-packages\\ipykernel_launcher.py:7: DataConversionWarning: A column-vector y was passed when a 1d array was expected. Please change the shape of y to (n_samples, ), for example using ravel().\n",
      "  import sys\n",
      "C:\\Users\\Sub\\Anaconda3\\envs\\sub\\lib\\site-packages\\ipykernel_launcher.py:7: DataConversionWarning: A column-vector y was passed when a 1d array was expected. Please change the shape of y to (n_samples, ), for example using ravel().\n",
      "  import sys\n",
      "C:\\Users\\Sub\\Anaconda3\\envs\\sub\\lib\\site-packages\\ipykernel_launcher.py:7: DataConversionWarning: A column-vector y was passed when a 1d array was expected. Please change the shape of y to (n_samples, ), for example using ravel().\n",
      "  import sys\n",
      "C:\\Users\\Sub\\Anaconda3\\envs\\sub\\lib\\site-packages\\ipykernel_launcher.py:7: DataConversionWarning: A column-vector y was passed when a 1d array was expected. Please change the shape of y to (n_samples, ), for example using ravel().\n",
      "  import sys\n",
      "C:\\Users\\Sub\\Anaconda3\\envs\\sub\\lib\\site-packages\\ipykernel_launcher.py:7: DataConversionWarning: A column-vector y was passed when a 1d array was expected. Please change the shape of y to (n_samples, ), for example using ravel().\n",
      "  import sys\n",
      "C:\\Users\\Sub\\Anaconda3\\envs\\sub\\lib\\site-packages\\ipykernel_launcher.py:7: DataConversionWarning: A column-vector y was passed when a 1d array was expected. Please change the shape of y to (n_samples, ), for example using ravel().\n",
      "  import sys\n",
      "C:\\Users\\Sub\\Anaconda3\\envs\\sub\\lib\\site-packages\\ipykernel_launcher.py:7: DataConversionWarning: A column-vector y was passed when a 1d array was expected. Please change the shape of y to (n_samples, ), for example using ravel().\n",
      "  import sys\n",
      "C:\\Users\\Sub\\Anaconda3\\envs\\sub\\lib\\site-packages\\ipykernel_launcher.py:7: DataConversionWarning: A column-vector y was passed when a 1d array was expected. Please change the shape of y to (n_samples, ), for example using ravel().\n",
      "  import sys\n",
      "C:\\Users\\Sub\\Anaconda3\\envs\\sub\\lib\\site-packages\\ipykernel_launcher.py:7: DataConversionWarning: A column-vector y was passed when a 1d array was expected. Please change the shape of y to (n_samples, ), for example using ravel().\n",
      "  import sys\n"
     ]
    },
    {
     "name": "stderr",
     "output_type": "stream",
     "text": [
      "C:\\Users\\Sub\\Anaconda3\\envs\\sub\\lib\\site-packages\\ipykernel_launcher.py:7: DataConversionWarning: A column-vector y was passed when a 1d array was expected. Please change the shape of y to (n_samples, ), for example using ravel().\n",
      "  import sys\n",
      "C:\\Users\\Sub\\Anaconda3\\envs\\sub\\lib\\site-packages\\ipykernel_launcher.py:7: DataConversionWarning: A column-vector y was passed when a 1d array was expected. Please change the shape of y to (n_samples, ), for example using ravel().\n",
      "  import sys\n",
      "C:\\Users\\Sub\\Anaconda3\\envs\\sub\\lib\\site-packages\\ipykernel_launcher.py:7: DataConversionWarning: A column-vector y was passed when a 1d array was expected. Please change the shape of y to (n_samples, ), for example using ravel().\n",
      "  import sys\n",
      "C:\\Users\\Sub\\Anaconda3\\envs\\sub\\lib\\site-packages\\ipykernel_launcher.py:7: DataConversionWarning: A column-vector y was passed when a 1d array was expected. Please change the shape of y to (n_samples, ), for example using ravel().\n",
      "  import sys\n",
      "C:\\Users\\Sub\\Anaconda3\\envs\\sub\\lib\\site-packages\\ipykernel_launcher.py:7: DataConversionWarning: A column-vector y was passed when a 1d array was expected. Please change the shape of y to (n_samples, ), for example using ravel().\n",
      "  import sys\n",
      "C:\\Users\\Sub\\Anaconda3\\envs\\sub\\lib\\site-packages\\ipykernel_launcher.py:7: DataConversionWarning: A column-vector y was passed when a 1d array was expected. Please change the shape of y to (n_samples, ), for example using ravel().\n",
      "  import sys\n",
      "C:\\Users\\Sub\\Anaconda3\\envs\\sub\\lib\\site-packages\\ipykernel_launcher.py:7: DataConversionWarning: A column-vector y was passed when a 1d array was expected. Please change the shape of y to (n_samples, ), for example using ravel().\n",
      "  import sys\n",
      "C:\\Users\\Sub\\Anaconda3\\envs\\sub\\lib\\site-packages\\ipykernel_launcher.py:7: DataConversionWarning: A column-vector y was passed when a 1d array was expected. Please change the shape of y to (n_samples, ), for example using ravel().\n",
      "  import sys\n",
      "C:\\Users\\Sub\\Anaconda3\\envs\\sub\\lib\\site-packages\\ipykernel_launcher.py:7: DataConversionWarning: A column-vector y was passed when a 1d array was expected. Please change the shape of y to (n_samples, ), for example using ravel().\n",
      "  import sys\n",
      "C:\\Users\\Sub\\Anaconda3\\envs\\sub\\lib\\site-packages\\ipykernel_launcher.py:7: DataConversionWarning: A column-vector y was passed when a 1d array was expected. Please change the shape of y to (n_samples, ), for example using ravel().\n",
      "  import sys\n",
      "C:\\Users\\Sub\\Anaconda3\\envs\\sub\\lib\\site-packages\\ipykernel_launcher.py:7: DataConversionWarning: A column-vector y was passed when a 1d array was expected. Please change the shape of y to (n_samples, ), for example using ravel().\n",
      "  import sys\n",
      "C:\\Users\\Sub\\Anaconda3\\envs\\sub\\lib\\site-packages\\ipykernel_launcher.py:7: DataConversionWarning: A column-vector y was passed when a 1d array was expected. Please change the shape of y to (n_samples, ), for example using ravel().\n",
      "  import sys\n",
      "C:\\Users\\Sub\\Anaconda3\\envs\\sub\\lib\\site-packages\\ipykernel_launcher.py:7: DataConversionWarning: A column-vector y was passed when a 1d array was expected. Please change the shape of y to (n_samples, ), for example using ravel().\n",
      "  import sys\n",
      "C:\\Users\\Sub\\Anaconda3\\envs\\sub\\lib\\site-packages\\ipykernel_launcher.py:7: DataConversionWarning: A column-vector y was passed when a 1d array was expected. Please change the shape of y to (n_samples, ), for example using ravel().\n",
      "  import sys\n",
      "C:\\Users\\Sub\\Anaconda3\\envs\\sub\\lib\\site-packages\\ipykernel_launcher.py:7: DataConversionWarning: A column-vector y was passed when a 1d array was expected. Please change the shape of y to (n_samples, ), for example using ravel().\n",
      "  import sys\n",
      "C:\\Users\\Sub\\Anaconda3\\envs\\sub\\lib\\site-packages\\ipykernel_launcher.py:7: DataConversionWarning: A column-vector y was passed when a 1d array was expected. Please change the shape of y to (n_samples, ), for example using ravel().\n",
      "  import sys\n",
      "C:\\Users\\Sub\\Anaconda3\\envs\\sub\\lib\\site-packages\\ipykernel_launcher.py:7: DataConversionWarning: A column-vector y was passed when a 1d array was expected. Please change the shape of y to (n_samples, ), for example using ravel().\n",
      "  import sys\n",
      "C:\\Users\\Sub\\Anaconda3\\envs\\sub\\lib\\site-packages\\ipykernel_launcher.py:7: DataConversionWarning: A column-vector y was passed when a 1d array was expected. Please change the shape of y to (n_samples, ), for example using ravel().\n",
      "  import sys\n",
      "C:\\Users\\Sub\\Anaconda3\\envs\\sub\\lib\\site-packages\\ipykernel_launcher.py:7: DataConversionWarning: A column-vector y was passed when a 1d array was expected. Please change the shape of y to (n_samples, ), for example using ravel().\n",
      "  import sys\n",
      "C:\\Users\\Sub\\Anaconda3\\envs\\sub\\lib\\site-packages\\ipykernel_launcher.py:7: DataConversionWarning: A column-vector y was passed when a 1d array was expected. Please change the shape of y to (n_samples, ), for example using ravel().\n",
      "  import sys\n",
      "C:\\Users\\Sub\\Anaconda3\\envs\\sub\\lib\\site-packages\\ipykernel_launcher.py:7: DataConversionWarning: A column-vector y was passed when a 1d array was expected. Please change the shape of y to (n_samples, ), for example using ravel().\n",
      "  import sys\n",
      "C:\\Users\\Sub\\Anaconda3\\envs\\sub\\lib\\site-packages\\ipykernel_launcher.py:7: DataConversionWarning: A column-vector y was passed when a 1d array was expected. Please change the shape of y to (n_samples, ), for example using ravel().\n",
      "  import sys\n",
      "C:\\Users\\Sub\\Anaconda3\\envs\\sub\\lib\\site-packages\\ipykernel_launcher.py:7: DataConversionWarning: A column-vector y was passed when a 1d array was expected. Please change the shape of y to (n_samples, ), for example using ravel().\n",
      "  import sys\n",
      "C:\\Users\\Sub\\Anaconda3\\envs\\sub\\lib\\site-packages\\ipykernel_launcher.py:7: DataConversionWarning: A column-vector y was passed when a 1d array was expected. Please change the shape of y to (n_samples, ), for example using ravel().\n",
      "  import sys\n",
      "C:\\Users\\Sub\\Anaconda3\\envs\\sub\\lib\\site-packages\\ipykernel_launcher.py:7: DataConversionWarning: A column-vector y was passed when a 1d array was expected. Please change the shape of y to (n_samples, ), for example using ravel().\n",
      "  import sys\n",
      "C:\\Users\\Sub\\Anaconda3\\envs\\sub\\lib\\site-packages\\ipykernel_launcher.py:7: DataConversionWarning: A column-vector y was passed when a 1d array was expected. Please change the shape of y to (n_samples, ), for example using ravel().\n",
      "  import sys\n",
      "C:\\Users\\Sub\\Anaconda3\\envs\\sub\\lib\\site-packages\\ipykernel_launcher.py:7: DataConversionWarning: A column-vector y was passed when a 1d array was expected. Please change the shape of y to (n_samples, ), for example using ravel().\n",
      "  import sys\n",
      "C:\\Users\\Sub\\Anaconda3\\envs\\sub\\lib\\site-packages\\ipykernel_launcher.py:7: DataConversionWarning: A column-vector y was passed when a 1d array was expected. Please change the shape of y to (n_samples, ), for example using ravel().\n",
      "  import sys\n",
      "C:\\Users\\Sub\\Anaconda3\\envs\\sub\\lib\\site-packages\\ipykernel_launcher.py:7: DataConversionWarning: A column-vector y was passed when a 1d array was expected. Please change the shape of y to (n_samples, ), for example using ravel().\n",
      "  import sys\n",
      "C:\\Users\\Sub\\Anaconda3\\envs\\sub\\lib\\site-packages\\ipykernel_launcher.py:7: DataConversionWarning: A column-vector y was passed when a 1d array was expected. Please change the shape of y to (n_samples, ), for example using ravel().\n",
      "  import sys\n",
      "C:\\Users\\Sub\\Anaconda3\\envs\\sub\\lib\\site-packages\\ipykernel_launcher.py:7: DataConversionWarning: A column-vector y was passed when a 1d array was expected. Please change the shape of y to (n_samples, ), for example using ravel().\n",
      "  import sys\n",
      "C:\\Users\\Sub\\Anaconda3\\envs\\sub\\lib\\site-packages\\ipykernel_launcher.py:7: DataConversionWarning: A column-vector y was passed when a 1d array was expected. Please change the shape of y to (n_samples, ), for example using ravel().\n",
      "  import sys\n",
      "C:\\Users\\Sub\\Anaconda3\\envs\\sub\\lib\\site-packages\\ipykernel_launcher.py:7: DataConversionWarning: A column-vector y was passed when a 1d array was expected. Please change the shape of y to (n_samples, ), for example using ravel().\n",
      "  import sys\n",
      "C:\\Users\\Sub\\Anaconda3\\envs\\sub\\lib\\site-packages\\ipykernel_launcher.py:7: DataConversionWarning: A column-vector y was passed when a 1d array was expected. Please change the shape of y to (n_samples, ), for example using ravel().\n",
      "  import sys\n",
      "C:\\Users\\Sub\\Anaconda3\\envs\\sub\\lib\\site-packages\\ipykernel_launcher.py:7: DataConversionWarning: A column-vector y was passed when a 1d array was expected. Please change the shape of y to (n_samples, ), for example using ravel().\n",
      "  import sys\n",
      "C:\\Users\\Sub\\Anaconda3\\envs\\sub\\lib\\site-packages\\ipykernel_launcher.py:7: DataConversionWarning: A column-vector y was passed when a 1d array was expected. Please change the shape of y to (n_samples, ), for example using ravel().\n",
      "  import sys\n",
      "C:\\Users\\Sub\\Anaconda3\\envs\\sub\\lib\\site-packages\\ipykernel_launcher.py:7: DataConversionWarning: A column-vector y was passed when a 1d array was expected. Please change the shape of y to (n_samples, ), for example using ravel().\n",
      "  import sys\n",
      "C:\\Users\\Sub\\Anaconda3\\envs\\sub\\lib\\site-packages\\ipykernel_launcher.py:7: DataConversionWarning: A column-vector y was passed when a 1d array was expected. Please change the shape of y to (n_samples, ), for example using ravel().\n",
      "  import sys\n",
      "C:\\Users\\Sub\\Anaconda3\\envs\\sub\\lib\\site-packages\\ipykernel_launcher.py:7: DataConversionWarning: A column-vector y was passed when a 1d array was expected. Please change the shape of y to (n_samples, ), for example using ravel().\n",
      "  import sys\n",
      "C:\\Users\\Sub\\Anaconda3\\envs\\sub\\lib\\site-packages\\ipykernel_launcher.py:7: DataConversionWarning: A column-vector y was passed when a 1d array was expected. Please change the shape of y to (n_samples, ), for example using ravel().\n",
      "  import sys\n",
      "C:\\Users\\Sub\\Anaconda3\\envs\\sub\\lib\\site-packages\\ipykernel_launcher.py:7: DataConversionWarning: A column-vector y was passed when a 1d array was expected. Please change the shape of y to (n_samples, ), for example using ravel().\n",
      "  import sys\n",
      "C:\\Users\\Sub\\Anaconda3\\envs\\sub\\lib\\site-packages\\ipykernel_launcher.py:7: DataConversionWarning: A column-vector y was passed when a 1d array was expected. Please change the shape of y to (n_samples, ), for example using ravel().\n",
      "  import sys\n",
      "C:\\Users\\Sub\\Anaconda3\\envs\\sub\\lib\\site-packages\\ipykernel_launcher.py:7: DataConversionWarning: A column-vector y was passed when a 1d array was expected. Please change the shape of y to (n_samples, ), for example using ravel().\n",
      "  import sys\n",
      "C:\\Users\\Sub\\Anaconda3\\envs\\sub\\lib\\site-packages\\ipykernel_launcher.py:7: DataConversionWarning: A column-vector y was passed when a 1d array was expected. Please change the shape of y to (n_samples, ), for example using ravel().\n",
      "  import sys\n",
      "C:\\Users\\Sub\\Anaconda3\\envs\\sub\\lib\\site-packages\\ipykernel_launcher.py:7: DataConversionWarning: A column-vector y was passed when a 1d array was expected. Please change the shape of y to (n_samples, ), for example using ravel().\n",
      "  import sys\n",
      "C:\\Users\\Sub\\Anaconda3\\envs\\sub\\lib\\site-packages\\ipykernel_launcher.py:7: DataConversionWarning: A column-vector y was passed when a 1d array was expected. Please change the shape of y to (n_samples, ), for example using ravel().\n",
      "  import sys\n",
      "C:\\Users\\Sub\\Anaconda3\\envs\\sub\\lib\\site-packages\\ipykernel_launcher.py:7: DataConversionWarning: A column-vector y was passed when a 1d array was expected. Please change the shape of y to (n_samples, ), for example using ravel().\n",
      "  import sys\n",
      "C:\\Users\\Sub\\Anaconda3\\envs\\sub\\lib\\site-packages\\ipykernel_launcher.py:7: DataConversionWarning: A column-vector y was passed when a 1d array was expected. Please change the shape of y to (n_samples, ), for example using ravel().\n",
      "  import sys\n",
      "C:\\Users\\Sub\\Anaconda3\\envs\\sub\\lib\\site-packages\\ipykernel_launcher.py:7: DataConversionWarning: A column-vector y was passed when a 1d array was expected. Please change the shape of y to (n_samples, ), for example using ravel().\n",
      "  import sys\n",
      "C:\\Users\\Sub\\Anaconda3\\envs\\sub\\lib\\site-packages\\ipykernel_launcher.py:7: DataConversionWarning: A column-vector y was passed when a 1d array was expected. Please change the shape of y to (n_samples, ), for example using ravel().\n",
      "  import sys\n"
     ]
    }
   ],
   "source": [
    "n_list = range(1,101)\n",
    "accuracies = []\n",
    "highest = [[0,0]]\n",
    "\n",
    "for n in n_list :\n",
    "    classifier = KNeighborsClassifier(n_neighbors = n)\n",
    "    classifier.fit(training_data, training_labels)\n",
    "    accuracies.append(classifier.score(validation_data, validation_labels))\n",
    "    \n",
    "    if highest[0][1] < max(accuracies) : \n",
    "        highest[0][0] = n\n",
    "        highest[0][1] = max(accuracies)"
   ]
  },
  {
   "cell_type": "code",
   "execution_count": 34,
   "metadata": {},
   "outputs": [
    {
     "data": {
      "image/png": "[encoded data removed]",
      "text/plain": [
       "<Figure size 432x288 with 1 Axes>"
      ]
     },
     "metadata": {
      "needs_background": "light"
     },
     "output_type": "display_data"
    },
    {
     "name": "stdout",
     "output_type": "stream",
     "text": [
      "The highest accuracy n-Neighbors :  4\n",
      "The highest accuracy :  0.8181818181818182\n"
     ]
    }
   ],
   "source": [
    "\n",
    "plt.plot(n_list, accuracies)\n",
    "plt.xlabel('n')\n",
    "plt.ylabel('accuracies')\n",
    "plt.show()\n",
    "\n",
    "print('The highest accuracy n-Neighbors : ',highest[0][0])\n",
    "print('The highest accuracy : ',highest[0][1])\n"
   ]
  },
  {
   "cell_type": "code",
   "execution_count": 38,
   "metadata": {},
   "outputs": [
    {
     "name": "stdout",
     "output_type": "stream",
     "text": [
      "     total(m^2)  population\n",
      "32     0.011570    0.014708\n",
      "29     0.000000    0.018601\n",
      "83     0.096349    0.066606\n",
      "155    0.426141    0.002603\n",
      "143    0.380327    0.035397\n",
      "..          ...         ...\n",
      "88     0.286821    0.007568\n",
      "104    0.229410    0.001615\n",
      "68     0.337313    0.066538\n",
      "25     0.222559    0.034147\n",
      "9      0.049101    0.124148\n",
      "\n",
      "[128 rows x 2 columns] \n",
      "     classification\n",
      "32            City\n",
      "29            City\n",
      "83            City\n",
      "155           Town\n",
      "143           City\n",
      "..             ...\n",
      "88            City\n",
      "104           Town\n",
      "68            City\n",
      "25            City\n",
      "9             City\n",
      "\n",
      "[128 rows x 1 columns]\n",
      "['City']\n"
     ]
    },
    {
     "name": "stderr",
     "output_type": "stream",
     "text": [
      "C:\\Users\\Sub\\Anaconda3\\envs\\sub\\lib\\site-packages\\ipykernel_launcher.py:4: DataConversionWarning: A column-vector y was passed when a 1d array was expected. Please change the shape of y to (n_samples, ), for example using ravel().\n",
      "  after removing the cwd from sys.path.\n"
     ]
    },
    {
     "data": {
      "image/png": "[encoded data removed]",
      "text/plain": [
       "<Figure size 432x288 with 1 Axes>"
      ]
     },
     "metadata": {
      "needs_background": "light"
     },
     "output_type": "display_data"
    }
   ],
   "source": [
    "import matplotlib.pyplot as plt\n",
    "import numpy as np\n",
    "classifier = KNeighborsClassifier(n_neighbors = 4)\n",
    "classifier.fit(training_data, training_labels)\n",
    "\n",
    "print(training_data,'\\n',training_labels)\n",
    "plt.scatter(training_data['total(m^2)'], training_data['population'])\n",
    "print(classifier.predict([[ 0.0429410 ,0.021615]]))"
   ]
  }
 ],
 "metadata": {
  "kernelspec": {
   "display_name": "Python 3",
   "language": "python",
   "name": "python3"
  },
  "language_info": {
   "codemirror_mode": {
    "name": "ipython",
    "version": 3
   },
   "file_extension": ".py",
   "mimetype": "text/x-python",
   "name": "python",
   "nbconvert_exporter": "python",
   "pygments_lexer": "ipython3",
   "version": "3.7.6"
  }
 },
 "nbformat": 4,
 "nbformat_minor": 4
}
