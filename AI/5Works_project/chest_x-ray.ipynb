{
 "cells": [
  {
   "cell_type": "code",
   "execution_count": 1,
   "metadata": {
    "scrolled": true
   },
   "outputs": [
    {
     "name": "stdout",
     "output_type": "stream",
     "text": [
      "Model: \"sequential\"\n",
      "_________________________________________________________________\n",
      "Layer (type)                 Output Shape              Param #   \n",
      "=================================================================\n",
      "conv2d (Conv2D)              (None, 200, 200, 64)      1792      \n",
      "_________________________________________________________________\n",
      "batch_normalization (BatchNo (None, 200, 200, 64)      256       \n",
      "_________________________________________________________________\n",
      "activation (Activation)      (None, 200, 200, 64)      0         \n",
      "_________________________________________________________________\n",
      "conv2d_1 (Conv2D)            (None, 200, 200, 64)      36928     \n",
      "_________________________________________________________________\n",
      "batch_normalization_1 (Batch (None, 200, 200, 64)      256       \n",
      "_________________________________________________________________\n",
      "activation_1 (Activation)    (None, 200, 200, 64)      0         \n",
      "_________________________________________________________________\n",
      "conv2d_2 (Conv2D)            (None, 200, 200, 64)      36928     \n",
      "_________________________________________________________________\n",
      "batch_normalization_2 (Batch (None, 200, 200, 64)      256       \n",
      "_________________________________________________________________\n",
      "activation_2 (Activation)    (None, 200, 200, 64)      0         \n",
      "_________________________________________________________________\n",
      "max_pooling2d (MaxPooling2D) (None, 100, 100, 64)      0         \n",
      "_________________________________________________________________\n",
      "conv2d_3 (Conv2D)            (None, 100, 100, 128)     73856     \n",
      "_________________________________________________________________\n",
      "batch_normalization_3 (Batch (None, 100, 100, 128)     512       \n",
      "_________________________________________________________________\n",
      "activation_3 (Activation)    (None, 100, 100, 128)     0         \n",
      "_________________________________________________________________\n",
      "conv2d_4 (Conv2D)            (None, 100, 100, 128)     147584    \n",
      "_________________________________________________________________\n",
      "batch_normalization_4 (Batch (None, 100, 100, 128)     512       \n",
      "_________________________________________________________________\n",
      "activation_4 (Activation)    (None, 100, 100, 128)     0         \n",
      "_________________________________________________________________\n",
      "conv2d_5 (Conv2D)            (None, 100, 100, 128)     147584    \n",
      "_________________________________________________________________\n",
      "batch_normalization_5 (Batch (None, 100, 100, 128)     512       \n",
      "_________________________________________________________________\n",
      "activation_5 (Activation)    (None, 100, 100, 128)     0         \n",
      "_________________________________________________________________\n",
      "max_pooling2d_1 (MaxPooling2 (None, 50, 50, 128)       0         \n",
      "_________________________________________________________________\n",
      "conv2d_6 (Conv2D)            (None, 50, 50, 256)       295168    \n",
      "_________________________________________________________________\n",
      "batch_normalization_6 (Batch (None, 50, 50, 256)       1024      \n",
      "_________________________________________________________________\n",
      "activation_6 (Activation)    (None, 50, 50, 256)       0         \n",
      "_________________________________________________________________\n",
      "conv2d_7 (Conv2D)            (None, 50, 50, 256)       590080    \n",
      "_________________________________________________________________\n",
      "batch_normalization_7 (Batch (None, 50, 50, 256)       1024      \n",
      "_________________________________________________________________\n",
      "activation_7 (Activation)    (None, 50, 50, 256)       0         \n",
      "_________________________________________________________________\n",
      "conv2d_8 (Conv2D)            (None, 50, 50, 256)       590080    \n",
      "_________________________________________________________________\n",
      "batch_normalization_8 (Batch (None, 50, 50, 256)       1024      \n",
      "_________________________________________________________________\n",
      "activation_8 (Activation)    (None, 50, 50, 256)       0         \n",
      "_________________________________________________________________\n",
      "max_pooling2d_2 (MaxPooling2 (None, 25, 25, 256)       0         \n",
      "_________________________________________________________________\n",
      "conv2d_9 (Conv2D)            (None, 25, 25, 512)       1180160   \n",
      "_________________________________________________________________\n",
      "batch_normalization_9 (Batch (None, 25, 25, 512)       2048      \n",
      "_________________________________________________________________\n",
      "activation_9 (Activation)    (None, 25, 25, 512)       0         \n",
      "_________________________________________________________________\n",
      "conv2d_10 (Conv2D)           (None, 25, 25, 512)       2359808   \n",
      "_________________________________________________________________\n",
      "batch_normalization_10 (Batc (None, 25, 25, 512)       2048      \n",
      "_________________________________________________________________\n",
      "activation_10 (Activation)   (None, 25, 25, 512)       0         \n",
      "_________________________________________________________________\n",
      "conv2d_11 (Conv2D)           (None, 25, 25, 512)       2359808   \n",
      "_________________________________________________________________\n",
      "batch_normalization_11 (Batc (None, 25, 25, 512)       2048      \n",
      "_________________________________________________________________\n",
      "activation_11 (Activation)   (None, 25, 25, 512)       0         \n",
      "_________________________________________________________________\n",
      "max_pooling2d_3 (MaxPooling2 (None, 12, 12, 512)       0         \n",
      "_________________________________________________________________\n",
      "flatten (Flatten)            (None, 73728)             0         \n",
      "_________________________________________________________________\n",
      "dense (Dense)                (None, 1024)              75498496  \n",
      "_________________________________________________________________\n",
      "dropout (Dropout)            (None, 1024)              0         \n",
      "_________________________________________________________________\n",
      "dense_1 (Dense)              (None, 512)               524800    \n",
      "_________________________________________________________________\n",
      "dropout_1 (Dropout)          (None, 512)               0         \n",
      "_________________________________________________________________\n",
      "dense_2 (Dense)              (None, 1)                 513       \n",
      "=================================================================\n",
      "Total params: 83,855,105\n",
      "Trainable params: 83,849,345\n",
      "Non-trainable params: 5,760\n",
      "_________________________________________________________________\n"
     ]
    }
   ],
   "source": [
    "from keras import models\n",
    "from keras import layers\n",
    "model = models.Sequential()\n",
    "\n",
    "model.add(layers.Conv2D(64, kernel_size=(3,3), strides=(1,1), padding='same',input_shape=(200,200,3)))\n",
    "model.add(layers.BatchNormalization(axis=3))\n",
    "model.add(layers.Activation('relu'))\n",
    "model.add(layers.Conv2D(64, kernel_size=(3,3), strides=(1,1), padding='same'))\n",
    "model.add(layers.BatchNormalization(axis=3))\n",
    "model.add(layers.Activation('relu'))\n",
    "model.add(layers.Conv2D(64, kernel_size=(3,3), strides=(1,1), padding='same'))\n",
    "model.add(layers.BatchNormalization(axis=3))\n",
    "model.add(layers.Activation('relu'))\n",
    "model.add(layers.MaxPooling2D((2,2),strides=2))\n",
    "\n",
    "\n",
    "model.add(layers.Conv2D(128, kernel_size=(3,3), strides=(1,1), padding='same'))\n",
    "model.add(layers.BatchNormalization(axis=3))\n",
    "model.add(layers.Activation('relu'))\n",
    "model.add(layers.Conv2D(128, kernel_size=(3,3), strides=(1,1), padding='same'))\n",
    "model.add(layers.BatchNormalization(axis=3))\n",
    "model.add(layers.Activation('relu'))\n",
    "model.add(layers.Conv2D(128, kernel_size=(3,3), strides=(1,1), padding='same'))\n",
    "model.add(layers.BatchNormalization(axis=3))\n",
    "model.add(layers.Activation('relu'))\n",
    "model.add(layers.MaxPooling2D((2,2),strides=2))\n",
    "\n",
    "model.add(layers.Conv2D(256, kernel_size=(3,3), strides=(1,1), padding='same'))\n",
    "model.add(layers.BatchNormalization(axis=3))\n",
    "model.add(layers.Activation('relu'))\n",
    "model.add(layers.Conv2D(256, kernel_size=(3,3), strides=(1,1), padding='same'))\n",
    "model.add(layers.BatchNormalization(axis=3))\n",
    "model.add(layers.Activation('relu'))\n",
    "model.add(layers.Conv2D(256, kernel_size=(3,3), strides=(1,1), padding='same'))\n",
    "model.add(layers.BatchNormalization(axis=3))\n",
    "model.add(layers.Activation('relu'))\n",
    "model.add(layers.MaxPooling2D((2,2),strides=2))\n",
    "\n",
    "model.add(layers.Conv2D(512, kernel_size=(3,3), strides=(1,1), padding='same'))\n",
    "model.add(layers.BatchNormalization(axis=3))\n",
    "model.add(layers.Activation('relu'))\n",
    "model.add(layers.Conv2D(512, kernel_size=(3,3), strides=(1,1), padding='same'))\n",
    "model.add(layers.BatchNormalization(axis=3))\n",
    "model.add(layers.Activation('relu'))\n",
    "model.add(layers.Conv2D(512, kernel_size=(3,3), strides=(1,1), padding='same'))\n",
    "model.add(layers.BatchNormalization(axis=3))\n",
    "model.add(layers.Activation('relu'))\n",
    "model.add(layers.MaxPooling2D((2,2),strides=2))\n",
    "\n",
    "\n",
    "model.add(layers.Flatten())\n",
    "\n",
    "model.add(layers.Dense(1024, activation='relu')) \n",
    "model.add(layers.Dropout(0.5))\n",
    "model.add(layers.Dense(512, activation='relu')) \n",
    "model.add(layers.Dropout(0.5))\n",
    "model.add(layers.Dense(1,activation='sigmoid'))\n",
    "\n",
    "model.summary()\n"
   ]
  },
  {
   "cell_type": "code",
   "execution_count": 2,
   "metadata": {},
   "outputs": [],
   "source": [
    "model.compile(loss='binary_crossentropy',\n",
    "             optimizer='adam',\n",
    "             metrics=['accuracy'])"
   ]
  },
  {
   "cell_type": "code",
   "execution_count": 4,
   "metadata": {},
   "outputs": [
    {
     "name": "stdout",
     "output_type": "stream",
     "text": [
      "Found 2075 images belonging to 2 classes.\n",
      "Found 416 images belonging to 2 classes.\n",
      "Found 404 images belonging to 2 classes.\n"
     ]
    }
   ],
   "source": [
    "from keras.preprocessing.image import ImageDataGenerator\n",
    "\n",
    "train_data = ImageDataGenerator(\n",
    "    rescale = 1./255,\n",
    "    rotation_range=40,\n",
    "    width_shift_range=0.2,\n",
    "    height_shift_range=0.2,\n",
    "    shear_range=0.2,\n",
    "    zoom_range=0.2,\n",
    "    horizontal_flip = True    \n",
    ")\n",
    "\n",
    "\n",
    "val_data = ImageDataGenerator(\n",
    "    rescale=1./255\n",
    ")\n",
    "\n",
    "test_data = ImageDataGenerator(\n",
    "    rescale=1./255\n",
    ")\n",
    "\n",
    "\n",
    "train_generator = train_data.flow_from_directory(\n",
    "    'chest_img/train',\n",
    "    target_size=(200,200),\n",
    "    batch_size=32,\n",
    "    class_mode='binary'\n",
    ")\n",
    "\n",
    "val_generator = val_data.flow_from_directory(\n",
    "    'chest_img/val',\n",
    "    target_size=(200,200),\n",
    "    batch_size=16,\n",
    "    class_mode='binary'\n",
    ")\n",
    "\n",
    "test_generator = test_data.flow_from_directory(\n",
    "    'chest_img/test',\n",
    "    target_size=(200,200),\n",
    "    batch_size=16,\n",
    "    class_mode='binary'\n",
    ")"
   ]
  },
  {
   "cell_type": "code",
   "execution_count": 5,
   "metadata": {},
   "outputs": [
    {
     "name": "stdout",
     "output_type": "stream",
     "text": [
      "WARNING:tensorflow:From <ipython-input-5-7b06aedd9b48>:6: Model.fit_generator (from tensorflow.python.keras.engine.training) is deprecated and will be removed in a future version.\n",
      "Instructions for updating:\n",
      "Please use Model.fit, which supports generators.\n",
      "Epoch 1/10\n",
      "300/300 [==============================] - 73s 243ms/step - loss: 2.6099 - accuracy: 0.6771 - val_loss: 2.7405 - val_accuracy: 0.5125\n",
      "Epoch 2/10\n",
      "300/300 [==============================] - 74s 248ms/step - loss: 0.3683 - accuracy: 0.8520 - val_loss: 2.3673 - val_accuracy: 0.5063\n",
      "Epoch 3/10\n",
      "300/300 [==============================] - 77s 256ms/step - loss: 0.3326 - accuracy: 0.8667 - val_loss: 0.5135 - val_accuracy: 0.6750\n",
      "Epoch 4/10\n",
      "300/300 [==============================] - 77s 256ms/step - loss: 0.3143 - accuracy: 0.8757 - val_loss: 0.4137 - val_accuracy: 0.8104\n",
      "Epoch 5/10\n",
      "300/300 [==============================] - 76s 253ms/step - loss: 0.2932 - accuracy: 0.8803 - val_loss: 0.2212 - val_accuracy: 0.9042\n",
      "Epoch 6/10\n",
      "300/300 [==============================] - 75s 252ms/step - loss: 0.2818 - accuracy: 0.8895 - val_loss: 0.2164 - val_accuracy: 0.9125\n",
      "Epoch 7/10\n",
      "300/300 [==============================] - 75s 251ms/step - loss: 0.2651 - accuracy: 0.8927 - val_loss: 0.2847 - val_accuracy: 0.9167\n",
      "Epoch 8/10\n",
      "300/300 [==============================] - 75s 251ms/step - loss: 0.2701 - accuracy: 0.8928 - val_loss: 0.1933 - val_accuracy: 0.9250\n",
      "Epoch 9/10\n",
      "300/300 [==============================] - 75s 250ms/step - loss: 0.2541 - accuracy: 0.9018 - val_loss: 0.2780 - val_accuracy: 0.8875\n",
      "Epoch 10/10\n",
      "300/300 [==============================] - 75s 251ms/step - loss: 0.2617 - accuracy: 0.8969 - val_loss: 0.2068 - val_accuracy: 0.9229\n"
     ]
    }
   ],
   "source": [
    "history = model.fit_generator(\n",
    "    train_generator,\n",
    "    steps_per_epoch = 300,\n",
    "    epochs = 10,\n",
    "    validation_data = val_generator,\n",
    "    validation_steps = 30\n",
    "    )"
   ]
  },
  {
   "cell_type": "code",
   "execution_count": 7,
   "metadata": {},
   "outputs": [
    {
     "name": "stdout",
     "output_type": "stream",
     "text": [
      "Accuracy :  0.862562608718872\n",
      "Loss :  0.5251093685626984\n",
      "\n",
      "Validation_acc :  0.7972916662693024\n",
      "Validation_loss :  0.7435367122292519\n"
     ]
    },
    {
     "data": {
      "image/png": "[encoded data removed]",
      "text/plain": [
       "<Figure size 432x288 with 1 Axes>"
      ]
     },
     "metadata": {
      "needs_background": "light"
     },
     "output_type": "display_data"
    },
    {
     "data": {
      "image/png": "[encoded data removed]",
      "text/plain": [
       "<Figure size 432x288 with 1 Axes>"
      ]
     },
     "metadata": {
      "needs_background": "light"
     },
     "output_type": "display_data"
    },
    {
     "name": "stdout",
     "output_type": "stream",
     "text": [
      "30/30 [==============================] - 1s 34ms/step - loss: 0.5893 - accuracy: 0.7286\n",
      "test acc :  0.7286324501037598\n",
      "test loss :  0.5893456339836121\n"
     ]
    }
   ],
   "source": [
    "import numpy as np\n",
    "\n",
    "history_data = history.history\n",
    "\n",
    "accuracy = history_data['accuracy']\n",
    "validation_acc =history_data['val_accuracy']\n",
    "loss = history_data['loss']\n",
    "validation_loss = history_data['val_loss']\n",
    "\n",
    "\n",
    "mean_acc = np.mean(accuracy)\n",
    "mean_loss = np.mean(loss)\n",
    "mean_val_acc = np.mean(validation_acc)\n",
    "mean_val_loss = np.mean(validation_loss)\n",
    "\n",
    "print(\"Accuracy : \" , mean_acc)\n",
    "print(\"Loss : \" , mean_loss)\n",
    "print()\n",
    "print(\"Validation_acc : \", mean_val_acc)\n",
    "print(\"Validation_loss : \", mean_val_loss)\n",
    "\n",
    "epochs = range(1,len(accuracy)+1,1)\n",
    "\n",
    "import matplotlib.pyplot as plt\n",
    "plt.plot(epochs, accuracy, 'r', label='Training acc')\n",
    "plt.plot(epochs, loss, 'b', label='training loss')\n",
    "plt.legend()\n",
    "plt.show()\n",
    "\n",
    "plt.plot(epochs, validation_acc, 'r', label='Validation acc')\n",
    "plt.plot(epochs, validation_loss, 'b', label='Validation loss')\n",
    "plt.legend()\n",
    "plt.show()\n",
    "\n",
    "\n",
    "test_loss, test_acc = model.evaluate(test_generator,steps=30)\n",
    "print(\"test acc : \", test_acc)\n",
    "print(\"test loss : \", test_loss)"
   ]
  },
  {
   "cell_type": "code",
   "execution_count": null,
   "metadata": {},
   "outputs": [],
   "source": [
    "model.save_weights('bmodel.h5')"
   ]
  }
 ],
 "metadata": {
  "kernelspec": {
   "display_name": "Python 3",
   "language": "python",
   "name": "python3"
  },
  "language_info": {
   "codemirror_mode": {
    "name": "ipython",
    "version": 3
   },
   "file_extension": ".py",
   "mimetype": "text/x-python",
   "name": "python",
   "nbconvert_exporter": "python",
   "pygments_lexer": "ipython3",
   "version": "3.6.10"
  }
 },
 "nbformat": 4,
 "nbformat_minor": 4
}
