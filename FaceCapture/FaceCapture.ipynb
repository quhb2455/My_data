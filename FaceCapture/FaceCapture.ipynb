{
 "cells": [
  {
   "cell_type": "code",
   "execution_count": 1,
   "metadata": {
    "scrolled": true
   },
   "outputs": [
    {
     "name": "stdout",
     "output_type": "stream",
     "text": [
      "1\n",
      "2\n",
      "3\n",
      "4\n",
      "handsome\n",
      "5\n",
      "6\n",
      "7\n",
      "8\n",
      "9\n",
      "10\n",
      "11\n",
      "12\n",
      "13\n",
      "14\n",
      "low\n"
     ]
    }
   ],
   "source": [
    "import os, sys\n",
    "import cv2\n",
    "\n",
    "filelist = os.listdir('img/predict_img/')\n",
    "cascade_file = r\"C:\\Users\\Sub\\Anaconda3\\envs\\sub\\Lib\\site-packages\\cv2\\data\\haarcascade_frontalface_default.xml\"\n",
    "flag = 1\n",
    "\n",
    "\"\"\"\n",
    "filelist = []\n",
    "filelist = ['ParkMyungSoo', 'ParkHyeiSoon', 'OhDalSoo','YouHaeJin', 'JungJunHa' ,'JoSaeHo', 'JoHoMin']\n",
    "\"\"\"\n",
    "# 파일 순서대로 파일 안에있는 이미지 이름 가져옴.\n",
    "for file in filelist :\n",
    "    imglist = os.listdir('img/predict_img/'+file)\n",
    "    \n",
    "\n",
    "    \n",
    "    #이미지를 순서대로 가져와서 얼굴 인식.\n",
    "    for imglists in imglist :\n",
    "        img_file = \"img/predict_img/\"+file+\"/\"+imglists\n",
    "        image = cv2.imread(img_file)\n",
    "        image_gs = cv2.cvtColor(image, cv2.COLOR_BGR2GRAY)\n",
    "        cascade = cv2.CascadeClassifier(cascade_file)\n",
    "        face_list = cascade.detectMultiScale(image_gs,scaleFactor = 1.1, minNeighbors = 4, minSize = (70,70))\n",
    "        \n",
    "        overlap_naming = 1\n",
    "        print(flag)\n",
    "        flag += 1\n",
    "        \n",
    "        #인식된 얼굴을 잘라내서 저장.\n",
    "        for face in face_list:\n",
    "            x,y,w,h = face\n",
    "            resizing_img = cv2.resize(image[y:y+h, x:x+w], dsize=(200,200), interpolation = cv2.INTER_AREA)\n",
    "            cv2.imwrite(\"img/low_v2/\"+file+\"_\"+str(overlap_naming)+\"_\"+imglists, resizing_img)\n",
    "            overlap_naming += 1\n",
    "\n",
    "    \n",
    "    print(file)\n"
   ]
  },
  {
   "cell_type": "code",
   "execution_count": null,
   "metadata": {},
   "outputs": [],
   "source": []
  },
  {
   "cell_type": "code",
   "execution_count": null,
   "metadata": {},
   "outputs": [],
   "source": []
  }
 ],
 "metadata": {
  "kernelspec": {
   "display_name": "Python 3",
   "language": "python",
   "name": "python3"
  },
  "language_info": {
   "codemirror_mode": {
    "name": "ipython",
    "version": 3
   },
   "file_extension": ".py",
   "mimetype": "text/x-python",
   "name": "python",
   "nbconvert_exporter": "python",
   "pygments_lexer": "ipython3",
   "version": "3.7.6"
  }
 },
 "nbformat": 4,
 "nbformat_minor": 4
}
